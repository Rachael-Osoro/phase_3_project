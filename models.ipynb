{
  "nbformat": 4,
  "nbformat_minor": 0,
  "metadata": {
    "colab": {
      "name": "models.ipynb",
      "provenance": [],
      "collapsed_sections": [],
      "authorship_tag": "ABX9TyPpLuLvsT4PgBNQNHbdma62",
      "include_colab_link": true
    },
    "kernelspec": {
      "name": "python3",
      "display_name": "Python 3"
    },
    "language_info": {
      "name": "python"
    }
  },
  "cells": [
    {
      "cell_type": "markdown",
      "metadata": {
        "id": "view-in-github",
        "colab_type": "text"
      },
      "source": [
        "<a href=\"https://colab.research.google.com/github/Rachael-Osoro/phase_3_project/blob/main/models.ipynb\" target=\"_parent\"><img src=\"https://colab.research.google.com/assets/colab-badge.svg\" alt=\"Open In Colab\"/></a>"
      ]
    },
    {
      "cell_type": "code",
      "execution_count": 4,
      "metadata": {
        "colab": {
          "base_uri": "https://localhost:8080/"
        },
        "id": "rQiGim8b2QaD",
        "outputId": "97f34b18-42a9-4cba-ec2a-10f4fe036184"
      },
      "outputs": [
        {
          "output_type": "stream",
          "name": "stdout",
          "text": [
            "Drive already mounted at /content/gdrive; to attempt to forcibly remount, call drive.mount(\"/content/gdrive\", force_remount=True).\n"
          ]
        }
      ],
      "source": [
        "from google.colab import drive\n",
        "drive.mount('/content/gdrive')"
      ]
    },
    {
      "cell_type": "code",
      "source": [
        "#importing libraries\n",
        "\n",
        "import pandas as pd\n",
        "import numpy as np\n",
        "import matplotlib.pyplot as plt\n",
        "%matplotlib inline\n",
        "import seaborn as sns\n",
        "from sklearn.preprocessing import StandardScaler\n",
        "from sklearn.model_selection import train_test_split, cross_val_score\n",
        "from sklearn.linear_model import LogisticRegression\n",
        "\n",
        "from sklearn.tree import DecisionTreeClassifier, plot_tree\n",
        "from sklearn.ensemble import GradientBoostingClassifier, RandomForestClassifier\n",
        "\n",
        "# metric module\n",
        "from sklearn.metrics import accuracy_score, recall_score, precision_score, f1_score, \\\n",
        "classification_report, confusion_matrix, plot_confusion_matrix, \\\n",
        " roc_curve, roc_auc_score, plot_roc_curve, auc\n",
        "from imblearn.over_sampling import SMOTE "
      ],
      "metadata": {
        "id": "2uHsrYN02rQ6"
      },
      "execution_count": 5,
      "outputs": []
    },
    {
      "cell_type": "markdown",
      "source": [
        "# Preprocessing\n",
        "\n",
        "We have a clean dataset, all variables are numerical, I'll prepare the data for machine learning models. Target variables are categorical in binary format, therefore, classification models and ensemble methods are best suited for this data."
      ],
      "metadata": {
        "id": "YtHDlqbG3w8t"
      }
    },
    {
      "cell_type": "code",
      "source": [
        "pd.set_option('display.max_columns', 40)\n",
        "\n",
        "# display features of the dataset\n",
        "df = pd.read_csv('/content/gdrive/MyDrive/phase_3/H1N1_data/clean_df', index_col=0)\n",
        "print(df.shape)\n",
        "df.head()\n"
      ],
      "metadata": {
        "id": "FJxV6zSk27Uo",
        "colab": {
          "base_uri": "https://localhost:8080/",
          "height": 287
        },
        "outputId": "1ac3e282-6455-4a1b-d700-fff42b2dd387"
      },
      "execution_count": 6,
      "outputs": [
        {
          "output_type": "stream",
          "name": "stdout",
          "text": [
            "(26707, 32)\n"
          ]
        },
        {
          "output_type": "execute_result",
          "data": {
            "text/plain": [
              "   respondent_id  h1n1_concern  h1n1_knowledge  behavioral_antiviral_meds  \\\n",
              "0            0.0           1.0             0.0                        0.0   \n",
              "1            1.0           3.0             2.0                        0.0   \n",
              "2            2.0           1.0             1.0                        0.0   \n",
              "3            3.0           1.0             1.0                        0.0   \n",
              "4            4.0           2.0             1.0                        0.0   \n",
              "\n",
              "   behavioral_avoidance  behavioral_face_mask  behavioral_wash_hands  \\\n",
              "0                   0.0                   0.0                    0.0   \n",
              "1                   1.0                   0.0                    1.0   \n",
              "2                   1.0                   0.0                    0.0   \n",
              "3                   1.0                   0.0                    1.0   \n",
              "4                   1.0                   0.0                    1.0   \n",
              "\n",
              "   behavioral_large_gatherings  behavioral_outside_home  \\\n",
              "0                          0.0                      1.0   \n",
              "1                          0.0                      1.0   \n",
              "2                          0.0                      0.0   \n",
              "3                          1.0                      0.0   \n",
              "4                          1.0                      0.0   \n",
              "\n",
              "   behavioral_touch_face  doctor_recc_h1n1  doctor_recc_seasonal  \\\n",
              "0                    1.0               0.0                   0.0   \n",
              "1                    1.0               0.0                   0.0   \n",
              "2                    0.0               0.0                   0.0   \n",
              "3                    0.0               0.0                   1.0   \n",
              "4                    1.0               0.0                   0.0   \n",
              "\n",
              "   chronic_med_condition  child_under_6_months  health_worker  \\\n",
              "0                    0.0                   0.0            0.0   \n",
              "1                    0.0                   0.0            0.0   \n",
              "2                    1.0                   0.0            0.0   \n",
              "3                    1.0                   0.0            0.0   \n",
              "4                    0.0                   0.0            0.0   \n",
              "\n",
              "   opinion_h1n1_vacc_effective  opinion_h1n1_risk  \\\n",
              "0                          3.0                1.0   \n",
              "1                          5.0                4.0   \n",
              "2                          3.0                1.0   \n",
              "3                          3.0                3.0   \n",
              "4                          3.0                3.0   \n",
              "\n",
              "   opinion_h1n1_sick_from_vacc  opinion_seas_vacc_effective  \\\n",
              "0                          2.0                          2.0   \n",
              "1                          4.0                          4.0   \n",
              "2                          1.0                          4.0   \n",
              "3                          5.0                          5.0   \n",
              "4                          2.0                          3.0   \n",
              "\n",
              "   opinion_seas_risk  opinion_seas_sick_from_vacc  household_adults  \\\n",
              "0                1.0                          2.0               0.0   \n",
              "1                2.0                          4.0               0.0   \n",
              "2                1.0                          2.0               2.0   \n",
              "3                4.0                          1.0               0.0   \n",
              "4                1.0                          4.0               1.0   \n",
              "\n",
              "   household_children  age_group  education  race  sex  income_poverty  \\\n",
              "0                 0.0        3.0        1.0   3.0  0.0             2.0   \n",
              "1                 0.0        1.0        0.0   3.0  1.0             2.0   \n",
              "2                 0.0        0.0        2.0   3.0  1.0             0.0   \n",
              "3                 0.0        4.0        0.0   3.0  0.0             2.0   \n",
              "4                 0.0        2.0        3.0   3.0  0.0             0.0   \n",
              "\n",
              "   marital_status  rent_or_own  employment_status  hhs_geo_region  \n",
              "0             1.0          0.0                1.0             8.0  \n",
              "1             1.0          1.0                0.0             1.0  \n",
              "2             1.0          0.0                0.0             9.0  \n",
              "3             1.0          1.0                1.0             5.0  \n",
              "4             0.0          0.0                0.0             9.0  "
            ],
            "text/html": [
              "\n",
              "  <div id=\"df-46dfc54f-ae52-4a6b-afa1-d29b16ee1db5\">\n",
              "    <div class=\"colab-df-container\">\n",
              "      <div>\n",
              "<style scoped>\n",
              "    .dataframe tbody tr th:only-of-type {\n",
              "        vertical-align: middle;\n",
              "    }\n",
              "\n",
              "    .dataframe tbody tr th {\n",
              "        vertical-align: top;\n",
              "    }\n",
              "\n",
              "    .dataframe thead th {\n",
              "        text-align: right;\n",
              "    }\n",
              "</style>\n",
              "<table border=\"1\" class=\"dataframe\">\n",
              "  <thead>\n",
              "    <tr style=\"text-align: right;\">\n",
              "      <th></th>\n",
              "      <th>respondent_id</th>\n",
              "      <th>h1n1_concern</th>\n",
              "      <th>h1n1_knowledge</th>\n",
              "      <th>behavioral_antiviral_meds</th>\n",
              "      <th>behavioral_avoidance</th>\n",
              "      <th>behavioral_face_mask</th>\n",
              "      <th>behavioral_wash_hands</th>\n",
              "      <th>behavioral_large_gatherings</th>\n",
              "      <th>behavioral_outside_home</th>\n",
              "      <th>behavioral_touch_face</th>\n",
              "      <th>doctor_recc_h1n1</th>\n",
              "      <th>doctor_recc_seasonal</th>\n",
              "      <th>chronic_med_condition</th>\n",
              "      <th>child_under_6_months</th>\n",
              "      <th>health_worker</th>\n",
              "      <th>opinion_h1n1_vacc_effective</th>\n",
              "      <th>opinion_h1n1_risk</th>\n",
              "      <th>opinion_h1n1_sick_from_vacc</th>\n",
              "      <th>opinion_seas_vacc_effective</th>\n",
              "      <th>opinion_seas_risk</th>\n",
              "      <th>opinion_seas_sick_from_vacc</th>\n",
              "      <th>household_adults</th>\n",
              "      <th>household_children</th>\n",
              "      <th>age_group</th>\n",
              "      <th>education</th>\n",
              "      <th>race</th>\n",
              "      <th>sex</th>\n",
              "      <th>income_poverty</th>\n",
              "      <th>marital_status</th>\n",
              "      <th>rent_or_own</th>\n",
              "      <th>employment_status</th>\n",
              "      <th>hhs_geo_region</th>\n",
              "    </tr>\n",
              "  </thead>\n",
              "  <tbody>\n",
              "    <tr>\n",
              "      <th>0</th>\n",
              "      <td>0.0</td>\n",
              "      <td>1.0</td>\n",
              "      <td>0.0</td>\n",
              "      <td>0.0</td>\n",
              "      <td>0.0</td>\n",
              "      <td>0.0</td>\n",
              "      <td>0.0</td>\n",
              "      <td>0.0</td>\n",
              "      <td>1.0</td>\n",
              "      <td>1.0</td>\n",
              "      <td>0.0</td>\n",
              "      <td>0.0</td>\n",
              "      <td>0.0</td>\n",
              "      <td>0.0</td>\n",
              "      <td>0.0</td>\n",
              "      <td>3.0</td>\n",
              "      <td>1.0</td>\n",
              "      <td>2.0</td>\n",
              "      <td>2.0</td>\n",
              "      <td>1.0</td>\n",
              "      <td>2.0</td>\n",
              "      <td>0.0</td>\n",
              "      <td>0.0</td>\n",
              "      <td>3.0</td>\n",
              "      <td>1.0</td>\n",
              "      <td>3.0</td>\n",
              "      <td>0.0</td>\n",
              "      <td>2.0</td>\n",
              "      <td>1.0</td>\n",
              "      <td>0.0</td>\n",
              "      <td>1.0</td>\n",
              "      <td>8.0</td>\n",
              "    </tr>\n",
              "    <tr>\n",
              "      <th>1</th>\n",
              "      <td>1.0</td>\n",
              "      <td>3.0</td>\n",
              "      <td>2.0</td>\n",
              "      <td>0.0</td>\n",
              "      <td>1.0</td>\n",
              "      <td>0.0</td>\n",
              "      <td>1.0</td>\n",
              "      <td>0.0</td>\n",
              "      <td>1.0</td>\n",
              "      <td>1.0</td>\n",
              "      <td>0.0</td>\n",
              "      <td>0.0</td>\n",
              "      <td>0.0</td>\n",
              "      <td>0.0</td>\n",
              "      <td>0.0</td>\n",
              "      <td>5.0</td>\n",
              "      <td>4.0</td>\n",
              "      <td>4.0</td>\n",
              "      <td>4.0</td>\n",
              "      <td>2.0</td>\n",
              "      <td>4.0</td>\n",
              "      <td>0.0</td>\n",
              "      <td>0.0</td>\n",
              "      <td>1.0</td>\n",
              "      <td>0.0</td>\n",
              "      <td>3.0</td>\n",
              "      <td>1.0</td>\n",
              "      <td>2.0</td>\n",
              "      <td>1.0</td>\n",
              "      <td>1.0</td>\n",
              "      <td>0.0</td>\n",
              "      <td>1.0</td>\n",
              "    </tr>\n",
              "    <tr>\n",
              "      <th>2</th>\n",
              "      <td>2.0</td>\n",
              "      <td>1.0</td>\n",
              "      <td>1.0</td>\n",
              "      <td>0.0</td>\n",
              "      <td>1.0</td>\n",
              "      <td>0.0</td>\n",
              "      <td>0.0</td>\n",
              "      <td>0.0</td>\n",
              "      <td>0.0</td>\n",
              "      <td>0.0</td>\n",
              "      <td>0.0</td>\n",
              "      <td>0.0</td>\n",
              "      <td>1.0</td>\n",
              "      <td>0.0</td>\n",
              "      <td>0.0</td>\n",
              "      <td>3.0</td>\n",
              "      <td>1.0</td>\n",
              "      <td>1.0</td>\n",
              "      <td>4.0</td>\n",
              "      <td>1.0</td>\n",
              "      <td>2.0</td>\n",
              "      <td>2.0</td>\n",
              "      <td>0.0</td>\n",
              "      <td>0.0</td>\n",
              "      <td>2.0</td>\n",
              "      <td>3.0</td>\n",
              "      <td>1.0</td>\n",
              "      <td>0.0</td>\n",
              "      <td>1.0</td>\n",
              "      <td>0.0</td>\n",
              "      <td>0.0</td>\n",
              "      <td>9.0</td>\n",
              "    </tr>\n",
              "    <tr>\n",
              "      <th>3</th>\n",
              "      <td>3.0</td>\n",
              "      <td>1.0</td>\n",
              "      <td>1.0</td>\n",
              "      <td>0.0</td>\n",
              "      <td>1.0</td>\n",
              "      <td>0.0</td>\n",
              "      <td>1.0</td>\n",
              "      <td>1.0</td>\n",
              "      <td>0.0</td>\n",
              "      <td>0.0</td>\n",
              "      <td>0.0</td>\n",
              "      <td>1.0</td>\n",
              "      <td>1.0</td>\n",
              "      <td>0.0</td>\n",
              "      <td>0.0</td>\n",
              "      <td>3.0</td>\n",
              "      <td>3.0</td>\n",
              "      <td>5.0</td>\n",
              "      <td>5.0</td>\n",
              "      <td>4.0</td>\n",
              "      <td>1.0</td>\n",
              "      <td>0.0</td>\n",
              "      <td>0.0</td>\n",
              "      <td>4.0</td>\n",
              "      <td>0.0</td>\n",
              "      <td>3.0</td>\n",
              "      <td>0.0</td>\n",
              "      <td>2.0</td>\n",
              "      <td>1.0</td>\n",
              "      <td>1.0</td>\n",
              "      <td>1.0</td>\n",
              "      <td>5.0</td>\n",
              "    </tr>\n",
              "    <tr>\n",
              "      <th>4</th>\n",
              "      <td>4.0</td>\n",
              "      <td>2.0</td>\n",
              "      <td>1.0</td>\n",
              "      <td>0.0</td>\n",
              "      <td>1.0</td>\n",
              "      <td>0.0</td>\n",
              "      <td>1.0</td>\n",
              "      <td>1.0</td>\n",
              "      <td>0.0</td>\n",
              "      <td>1.0</td>\n",
              "      <td>0.0</td>\n",
              "      <td>0.0</td>\n",
              "      <td>0.0</td>\n",
              "      <td>0.0</td>\n",
              "      <td>0.0</td>\n",
              "      <td>3.0</td>\n",
              "      <td>3.0</td>\n",
              "      <td>2.0</td>\n",
              "      <td>3.0</td>\n",
              "      <td>1.0</td>\n",
              "      <td>4.0</td>\n",
              "      <td>1.0</td>\n",
              "      <td>0.0</td>\n",
              "      <td>2.0</td>\n",
              "      <td>3.0</td>\n",
              "      <td>3.0</td>\n",
              "      <td>0.0</td>\n",
              "      <td>0.0</td>\n",
              "      <td>0.0</td>\n",
              "      <td>0.0</td>\n",
              "      <td>0.0</td>\n",
              "      <td>9.0</td>\n",
              "    </tr>\n",
              "  </tbody>\n",
              "</table>\n",
              "</div>\n",
              "      <button class=\"colab-df-convert\" onclick=\"convertToInteractive('df-46dfc54f-ae52-4a6b-afa1-d29b16ee1db5')\"\n",
              "              title=\"Convert this dataframe to an interactive table.\"\n",
              "              style=\"display:none;\">\n",
              "        \n",
              "  <svg xmlns=\"http://www.w3.org/2000/svg\" height=\"24px\"viewBox=\"0 0 24 24\"\n",
              "       width=\"24px\">\n",
              "    <path d=\"M0 0h24v24H0V0z\" fill=\"none\"/>\n",
              "    <path d=\"M18.56 5.44l.94 2.06.94-2.06 2.06-.94-2.06-.94-.94-2.06-.94 2.06-2.06.94zm-11 1L8.5 8.5l.94-2.06 2.06-.94-2.06-.94L8.5 2.5l-.94 2.06-2.06.94zm10 10l.94 2.06.94-2.06 2.06-.94-2.06-.94-.94-2.06-.94 2.06-2.06.94z\"/><path d=\"M17.41 7.96l-1.37-1.37c-.4-.4-.92-.59-1.43-.59-.52 0-1.04.2-1.43.59L10.3 9.45l-7.72 7.72c-.78.78-.78 2.05 0 2.83L4 21.41c.39.39.9.59 1.41.59.51 0 1.02-.2 1.41-.59l7.78-7.78 2.81-2.81c.8-.78.8-2.07 0-2.86zM5.41 20L4 18.59l7.72-7.72 1.47 1.35L5.41 20z\"/>\n",
              "  </svg>\n",
              "      </button>\n",
              "      \n",
              "  <style>\n",
              "    .colab-df-container {\n",
              "      display:flex;\n",
              "      flex-wrap:wrap;\n",
              "      gap: 12px;\n",
              "    }\n",
              "\n",
              "    .colab-df-convert {\n",
              "      background-color: #E8F0FE;\n",
              "      border: none;\n",
              "      border-radius: 50%;\n",
              "      cursor: pointer;\n",
              "      display: none;\n",
              "      fill: #1967D2;\n",
              "      height: 32px;\n",
              "      padding: 0 0 0 0;\n",
              "      width: 32px;\n",
              "    }\n",
              "\n",
              "    .colab-df-convert:hover {\n",
              "      background-color: #E2EBFA;\n",
              "      box-shadow: 0px 1px 2px rgba(60, 64, 67, 0.3), 0px 1px 3px 1px rgba(60, 64, 67, 0.15);\n",
              "      fill: #174EA6;\n",
              "    }\n",
              "\n",
              "    [theme=dark] .colab-df-convert {\n",
              "      background-color: #3B4455;\n",
              "      fill: #D2E3FC;\n",
              "    }\n",
              "\n",
              "    [theme=dark] .colab-df-convert:hover {\n",
              "      background-color: #434B5C;\n",
              "      box-shadow: 0px 1px 3px 1px rgba(0, 0, 0, 0.15);\n",
              "      filter: drop-shadow(0px 1px 2px rgba(0, 0, 0, 0.3));\n",
              "      fill: #FFFFFF;\n",
              "    }\n",
              "  </style>\n",
              "\n",
              "      <script>\n",
              "        const buttonEl =\n",
              "          document.querySelector('#df-46dfc54f-ae52-4a6b-afa1-d29b16ee1db5 button.colab-df-convert');\n",
              "        buttonEl.style.display =\n",
              "          google.colab.kernel.accessAllowed ? 'block' : 'none';\n",
              "\n",
              "        async function convertToInteractive(key) {\n",
              "          const element = document.querySelector('#df-46dfc54f-ae52-4a6b-afa1-d29b16ee1db5');\n",
              "          const dataTable =\n",
              "            await google.colab.kernel.invokeFunction('convertToInteractive',\n",
              "                                                     [key], {});\n",
              "          if (!dataTable) return;\n",
              "\n",
              "          const docLinkHtml = 'Like what you see? Visit the ' +\n",
              "            '<a target=\"_blank\" href=https://colab.research.google.com/notebooks/data_table.ipynb>data table notebook</a>'\n",
              "            + ' to learn more about interactive tables.';\n",
              "          element.innerHTML = '';\n",
              "          dataTable['output_type'] = 'display_data';\n",
              "          await google.colab.output.renderOutput(dataTable, element);\n",
              "          const docLink = document.createElement('div');\n",
              "          docLink.innerHTML = docLinkHtml;\n",
              "          element.appendChild(docLink);\n",
              "        }\n",
              "      </script>\n",
              "    </div>\n",
              "  </div>\n",
              "  "
            ]
          },
          "metadata": {},
          "execution_count": 6
        }
      ]
    },
    {
      "cell_type": "code",
      "source": [
        "df.columns"
      ],
      "metadata": {
        "colab": {
          "base_uri": "https://localhost:8080/"
        },
        "id": "wK56XS1aUfD2",
        "outputId": "e9ce286c-b949-472d-eac4-5bca7462ed39"
      },
      "execution_count": 7,
      "outputs": [
        {
          "output_type": "execute_result",
          "data": {
            "text/plain": [
              "Index(['respondent_id', 'h1n1_concern', 'h1n1_knowledge',\n",
              "       'behavioral_antiviral_meds', 'behavioral_avoidance',\n",
              "       'behavioral_face_mask', 'behavioral_wash_hands',\n",
              "       'behavioral_large_gatherings', 'behavioral_outside_home',\n",
              "       'behavioral_touch_face', 'doctor_recc_h1n1', 'doctor_recc_seasonal',\n",
              "       'chronic_med_condition', 'child_under_6_months', 'health_worker',\n",
              "       'opinion_h1n1_vacc_effective', 'opinion_h1n1_risk',\n",
              "       'opinion_h1n1_sick_from_vacc', 'opinion_seas_vacc_effective',\n",
              "       'opinion_seas_risk', 'opinion_seas_sick_from_vacc', 'household_adults',\n",
              "       'household_children', 'age_group', 'education', 'race', 'sex',\n",
              "       'income_poverty', 'marital_status', 'rent_or_own', 'employment_status',\n",
              "       'hhs_geo_region'],\n",
              "      dtype='object')"
            ]
          },
          "metadata": {},
          "execution_count": 7
        }
      ]
    },
    {
      "cell_type": "code",
      "source": [
        "to_drop = ['respondent_id', 'doctor_recc_seasonal', 'opinion_seas_vacc_effective', 'opinion_seas_risk', 'opinion_seas_sick_from_vacc']\n"
      ],
      "metadata": {
        "id": "LcumD26zUjo6"
      },
      "execution_count": 8,
      "outputs": []
    },
    {
      "cell_type": "code",
      "source": [
        "# display target variables\n",
        "target = pd.read_csv('/content/gdrive/MyDrive/phase_3/H1N1_data/training_set_labels.csv') \n",
        "print(target.shape)\n",
        "target.head()"
      ],
      "metadata": {
        "colab": {
          "base_uri": "https://localhost:8080/",
          "height": 223
        },
        "id": "_vzFIJze3blY",
        "outputId": "c26e1738-d909-438c-b93c-db0756bfca07"
      },
      "execution_count": 9,
      "outputs": [
        {
          "output_type": "stream",
          "name": "stdout",
          "text": [
            "(26707, 3)\n"
          ]
        },
        {
          "output_type": "execute_result",
          "data": {
            "text/plain": [
              "   respondent_id  h1n1_vaccine  seasonal_vaccine\n",
              "0              0             0                 0\n",
              "1              1             0                 1\n",
              "2              2             0                 0\n",
              "3              3             0                 1\n",
              "4              4             0                 0"
            ],
            "text/html": [
              "\n",
              "  <div id=\"df-4faa37cc-a522-4e0d-803d-60e71f9b25e1\">\n",
              "    <div class=\"colab-df-container\">\n",
              "      <div>\n",
              "<style scoped>\n",
              "    .dataframe tbody tr th:only-of-type {\n",
              "        vertical-align: middle;\n",
              "    }\n",
              "\n",
              "    .dataframe tbody tr th {\n",
              "        vertical-align: top;\n",
              "    }\n",
              "\n",
              "    .dataframe thead th {\n",
              "        text-align: right;\n",
              "    }\n",
              "</style>\n",
              "<table border=\"1\" class=\"dataframe\">\n",
              "  <thead>\n",
              "    <tr style=\"text-align: right;\">\n",
              "      <th></th>\n",
              "      <th>respondent_id</th>\n",
              "      <th>h1n1_vaccine</th>\n",
              "      <th>seasonal_vaccine</th>\n",
              "    </tr>\n",
              "  </thead>\n",
              "  <tbody>\n",
              "    <tr>\n",
              "      <th>0</th>\n",
              "      <td>0</td>\n",
              "      <td>0</td>\n",
              "      <td>0</td>\n",
              "    </tr>\n",
              "    <tr>\n",
              "      <th>1</th>\n",
              "      <td>1</td>\n",
              "      <td>0</td>\n",
              "      <td>1</td>\n",
              "    </tr>\n",
              "    <tr>\n",
              "      <th>2</th>\n",
              "      <td>2</td>\n",
              "      <td>0</td>\n",
              "      <td>0</td>\n",
              "    </tr>\n",
              "    <tr>\n",
              "      <th>3</th>\n",
              "      <td>3</td>\n",
              "      <td>0</td>\n",
              "      <td>1</td>\n",
              "    </tr>\n",
              "    <tr>\n",
              "      <th>4</th>\n",
              "      <td>4</td>\n",
              "      <td>0</td>\n",
              "      <td>0</td>\n",
              "    </tr>\n",
              "  </tbody>\n",
              "</table>\n",
              "</div>\n",
              "      <button class=\"colab-df-convert\" onclick=\"convertToInteractive('df-4faa37cc-a522-4e0d-803d-60e71f9b25e1')\"\n",
              "              title=\"Convert this dataframe to an interactive table.\"\n",
              "              style=\"display:none;\">\n",
              "        \n",
              "  <svg xmlns=\"http://www.w3.org/2000/svg\" height=\"24px\"viewBox=\"0 0 24 24\"\n",
              "       width=\"24px\">\n",
              "    <path d=\"M0 0h24v24H0V0z\" fill=\"none\"/>\n",
              "    <path d=\"M18.56 5.44l.94 2.06.94-2.06 2.06-.94-2.06-.94-.94-2.06-.94 2.06-2.06.94zm-11 1L8.5 8.5l.94-2.06 2.06-.94-2.06-.94L8.5 2.5l-.94 2.06-2.06.94zm10 10l.94 2.06.94-2.06 2.06-.94-2.06-.94-.94-2.06-.94 2.06-2.06.94z\"/><path d=\"M17.41 7.96l-1.37-1.37c-.4-.4-.92-.59-1.43-.59-.52 0-1.04.2-1.43.59L10.3 9.45l-7.72 7.72c-.78.78-.78 2.05 0 2.83L4 21.41c.39.39.9.59 1.41.59.51 0 1.02-.2 1.41-.59l7.78-7.78 2.81-2.81c.8-.78.8-2.07 0-2.86zM5.41 20L4 18.59l7.72-7.72 1.47 1.35L5.41 20z\"/>\n",
              "  </svg>\n",
              "      </button>\n",
              "      \n",
              "  <style>\n",
              "    .colab-df-container {\n",
              "      display:flex;\n",
              "      flex-wrap:wrap;\n",
              "      gap: 12px;\n",
              "    }\n",
              "\n",
              "    .colab-df-convert {\n",
              "      background-color: #E8F0FE;\n",
              "      border: none;\n",
              "      border-radius: 50%;\n",
              "      cursor: pointer;\n",
              "      display: none;\n",
              "      fill: #1967D2;\n",
              "      height: 32px;\n",
              "      padding: 0 0 0 0;\n",
              "      width: 32px;\n",
              "    }\n",
              "\n",
              "    .colab-df-convert:hover {\n",
              "      background-color: #E2EBFA;\n",
              "      box-shadow: 0px 1px 2px rgba(60, 64, 67, 0.3), 0px 1px 3px 1px rgba(60, 64, 67, 0.15);\n",
              "      fill: #174EA6;\n",
              "    }\n",
              "\n",
              "    [theme=dark] .colab-df-convert {\n",
              "      background-color: #3B4455;\n",
              "      fill: #D2E3FC;\n",
              "    }\n",
              "\n",
              "    [theme=dark] .colab-df-convert:hover {\n",
              "      background-color: #434B5C;\n",
              "      box-shadow: 0px 1px 3px 1px rgba(0, 0, 0, 0.15);\n",
              "      filter: drop-shadow(0px 1px 2px rgba(0, 0, 0, 0.3));\n",
              "      fill: #FFFFFF;\n",
              "    }\n",
              "  </style>\n",
              "\n",
              "      <script>\n",
              "        const buttonEl =\n",
              "          document.querySelector('#df-4faa37cc-a522-4e0d-803d-60e71f9b25e1 button.colab-df-convert');\n",
              "        buttonEl.style.display =\n",
              "          google.colab.kernel.accessAllowed ? 'block' : 'none';\n",
              "\n",
              "        async function convertToInteractive(key) {\n",
              "          const element = document.querySelector('#df-4faa37cc-a522-4e0d-803d-60e71f9b25e1');\n",
              "          const dataTable =\n",
              "            await google.colab.kernel.invokeFunction('convertToInteractive',\n",
              "                                                     [key], {});\n",
              "          if (!dataTable) return;\n",
              "\n",
              "          const docLinkHtml = 'Like what you see? Visit the ' +\n",
              "            '<a target=\"_blank\" href=https://colab.research.google.com/notebooks/data_table.ipynb>data table notebook</a>'\n",
              "            + ' to learn more about interactive tables.';\n",
              "          element.innerHTML = '';\n",
              "          dataTable['output_type'] = 'display_data';\n",
              "          await google.colab.output.renderOutput(dataTable, element);\n",
              "          const docLink = document.createElement('div');\n",
              "          docLink.innerHTML = docLinkHtml;\n",
              "          element.appendChild(docLink);\n",
              "        }\n",
              "      </script>\n",
              "    </div>\n",
              "  </div>\n",
              "  "
            ]
          },
          "metadata": {},
          "execution_count": 9
        }
      ]
    },
    {
      "cell_type": "markdown",
      "source": [
        "###Train Test Split\n",
        "Split dataset into training set for the model to learn and testing set to simulate model performance on unseen data"
      ],
      "metadata": {
        "id": "bcc4AiVavgbb"
      }
    },
    {
      "cell_type": "code",
      "source": [
        "# Define X and y\n",
        "# Drop respondent ID, it is an artifact, not useful in our classification\n",
        "\n",
        "X = df.drop(columns=to_drop, axis=1)\n",
        "y = target['h1n1_vaccine']\n",
        "\n",
        "# train_test_split X and y \n",
        "X_train, X_test, y_train, y_test = train_test_split(X, y,\n",
        "                                                    train_size=0.8,\n",
        "                                                    shuffle=True,\n",
        "                                                    stratify = y,\n",
        "                                                    random_state=42)\n",
        "\n",
        "# print size of train and test set\n",
        "print('X_train size: ', X_train.shape)\n",
        "print('y_train size: ', y_train.shape)\n",
        "print('X_test size: ', X_test.shape)\n",
        "print('y_test size: ', y_test.shape)"
      ],
      "metadata": {
        "colab": {
          "base_uri": "https://localhost:8080/"
        },
        "id": "02r9i1E36IIP",
        "outputId": "242b7e65-081f-48f5-dcd0-4baa7679e218"
      },
      "execution_count": 10,
      "outputs": [
        {
          "output_type": "stream",
          "name": "stdout",
          "text": [
            "X_train size:  (21365, 27)\n",
            "y_train size:  (21365,)\n",
            "X_test size:  (5342, 27)\n",
            "y_test size:  (5342,)\n"
          ]
        }
      ]
    },
    {
      "cell_type": "markdown",
      "source": [
        "## Baseline Model\n",
        "Fit a baseline model for reference with subsequent trained models. Logistic Regression model is our baseline model with the default parameters defined in sklearn. Since our data is has varying scale, it is important to normalize the features to a consistent scale of between 0 and 1 to level the playing field for this model."
      ],
      "metadata": {
        "id": "WQfwkP63WMtR"
      }
    },
    {
      "cell_type": "code",
      "source": [
        "# using Standard Scaler for normalization\n",
        "scaler = StandardScaler()\n",
        "# fit train set\n",
        "# transform test/eval set\n",
        "\n",
        "X_train_scaled = pd.DataFrame(scaler.fit_transform(X_train), \n",
        "                              columns=X_train.columns,\n",
        "                              index=X_train.index)\n",
        "\n",
        "X_test_scaled = pd.DataFrame(scaler.transform(X_test), \n",
        "                             columns = X_test.columns, \n",
        "                             index=X_test.index)              \n",
        "\n",
        "# instantiate LogisticRegression\n",
        "\n",
        "baseline_logreg = LogisticRegression(random_state=42)\n",
        "\n",
        "# fit scaled training set to the model\n",
        "baseline_model = baseline_logreg.fit(X_train_scaled, y_train)\n"
      ],
      "metadata": {
        "id": "3TOX7z7HYovl"
      },
      "execution_count": 11,
      "outputs": []
    },
    {
      "cell_type": "markdown",
      "source": [
        "#### Evaluating performance of baseline model\n"
      ],
      "metadata": {
        "id": "73K7_YkR5FDb"
      }
    },
    {
      "cell_type": "code",
      "source": [
        "# predict performance of model on train and test set\n",
        "\n",
        "train_preds = baseline_model.predict(X_train_scaled)\n",
        "test_preds = baseline_model.predict(X_test_scaled)"
      ],
      "metadata": {
        "id": "YT8UAH4UbDH_"
      },
      "execution_count": 12,
      "outputs": []
    },
    {
      "cell_type": "code",
      "source": [
        "# accuracy and f1 scores of test and train set\n",
        "\n",
        "train_acc = accuracy_score(y_train, train_preds)\n",
        "test_acc = accuracy_score(y_test, test_preds)\n",
        "train_prec = recall_score(y_train, train_preds)\n",
        "test_prec = recall_score(y_test, test_preds)"
      ],
      "metadata": {
        "id": "WxiecjwkgasT"
      },
      "execution_count": 13,
      "outputs": []
    },
    {
      "cell_type": "code",
      "source": [
        "print('Train Accuracy:', train_acc)\n",
        "print('Test Accuracy:', test_acc)\n",
        "print('-------------------------------')\n",
        "print('Precison score for training set: ', train_prec)\n",
        "print('Precision score for testing set: ', test_prec)\n"
      ],
      "metadata": {
        "colab": {
          "base_uri": "https://localhost:8080/"
        },
        "id": "YbmhRyuHbGmq",
        "outputId": "f519d2a1-a18d-4487-cd78-8ebfce8c003c"
      },
      "execution_count": 14,
      "outputs": [
        {
          "output_type": "stream",
          "name": "stdout",
          "text": [
            "Train Accuracy: 0.834963725719635\n",
            "Test Accuracy: 0.832459752901535\n",
            "-------------------------------\n",
            "Precison score for training set:  0.41154439303811413\n",
            "Precision score for testing set:  0.40969162995594716\n"
          ]
        }
      ]
    },
    {
      "cell_type": "code",
      "source": [
        "baseline_neg_log_loss_cv = cross_val_score(baseline_model, X_train_scaled, y_train, scoring=\"neg_log_loss\")\n",
        "\n",
        "baseline_log_loss = -(baseline_neg_log_loss_cv.mean())\n",
        "baseline_log_loss"
      ],
      "metadata": {
        "colab": {
          "base_uri": "https://localhost:8080/"
        },
        "id": "orfwPuaovrx4",
        "outputId": "23818f2f-edc2-4c63-907d-0ecaf335e7b8"
      },
      "execution_count": 15,
      "outputs": [
        {
          "output_type": "execute_result",
          "data": {
            "text/plain": [
              "0.38958510288118486"
            ]
          },
          "metadata": {},
          "execution_count": 15
        }
      ]
    },
    {
      "cell_type": "code",
      "source": [
        "plot_confusion_matrix(baseline_logreg, X_test_scaled, y_test)"
      ],
      "metadata": {
        "colab": {
          "base_uri": "https://localhost:8080/",
          "height": 351
        },
        "id": "tiEUcobw3miM",
        "outputId": "e1ccd0fd-c46f-4132-9a89-8fc7709c866a"
      },
      "execution_count": 16,
      "outputs": [
        {
          "output_type": "stream",
          "name": "stderr",
          "text": [
            "/usr/local/lib/python3.7/dist-packages/sklearn/utils/deprecation.py:87: FutureWarning: Function plot_confusion_matrix is deprecated; Function `plot_confusion_matrix` is deprecated in 1.0 and will be removed in 1.2. Use one of the class methods: ConfusionMatrixDisplay.from_predictions or ConfusionMatrixDisplay.from_estimator.\n",
            "  warnings.warn(msg, category=FutureWarning)\n"
          ]
        },
        {
          "output_type": "execute_result",
          "data": {
            "text/plain": [
              "<sklearn.metrics._plot.confusion_matrix.ConfusionMatrixDisplay at 0x7f837396fc10>"
            ]
          },
          "metadata": {},
          "execution_count": 16
        },
        {
          "output_type": "display_data",
          "data": {
            "text/plain": [
              "<Figure size 432x288 with 2 Axes>"
            ],
            "image/png": "[encoded data removed]"
          },
          "metadata": {
            "needs_background": "light"
          }
        }
      ]
    },
    {
      "cell_type": "code",
      "source": [
        "# calculate probabilities of each datapoint\n",
        "y_score = baseline_model.decision_function(X_test_scaled)\n",
        "\n",
        "fpr, tpr, thresholds = roc_curve(y_test, y_score)\n",
        "\n",
        "print('AUC: {}'.format(auc(fpr, tpr)))"
      ],
      "metadata": {
        "colab": {
          "base_uri": "https://localhost:8080/"
        },
        "id": "rriARX8Tx0md",
        "outputId": "68cc40fa-b604-452d-d6d0-d4e6ef2a32be"
      },
      "execution_count": 17,
      "outputs": [
        {
          "output_type": "stream",
          "name": "stdout",
          "text": [
            "AUC: 0.8153001762323964\n"
          ]
        }
      ]
    },
    {
      "cell_type": "code",
      "source": [
        "fig, ax = plt.subplots(figsize=(10,8), dpi=100)\n",
        "\n",
        "ax.plot(fpr, tpr, color='darkgreen',\n",
        "         lw=2, label='ROC curve')\n",
        "ax.plot([0, 1], [0, 1], color='red', lw=3, linestyle='--')\n",
        "plt.xlim([0.0, 1.0])\n",
        "plt.ylim([0.0, 1.05])\n",
        "plt.yticks([i/20.0 for i in range(21)])\n",
        "plt.xticks([i/20.0 for i in range(21)])\n",
        "ax.set_xlabel('False Positive Rate')\n",
        "ax.set_ylabel('True Positive Rate')\n",
        "ax.set_title('Receiver operating characteristic (ROC) Curve')\n",
        "ax.legend(loc='lower right')\n",
        "plt.show()"
      ],
      "metadata": {
        "colab": {
          "base_uri": "https://localhost:8080/",
          "height": 706
        },
        "id": "8bevgkFCy0is",
        "outputId": "6c642a04-3240-4e36-d23a-4fe978da00cd"
      },
      "execution_count": 18,
      "outputs": [
        {
          "output_type": "display_data",
          "data": {
            "text/plain": [
              "<Figure size 1000x800 with 1 Axes>"
            ],
            "image/png": "[encoded data removed]"
          },
          "metadata": {
            "needs_background": "light"
          }
        }
      ]
    },
    {
      "cell_type": "markdown",
      "source": [
        "This baseline model has 83% accuracy which is a bit misleading because of class imbalance in our target variable, therefore, a larger percentage of the majority class will be predicted compared to the minority class. This accuracy score means the model will correctly assign unvaccinated and vaccinated people 83% of the time. This is pretty good, but we will work to improve the accuracy in subsequent models. A log loss 0f 0.39 is high. Remember there is class imbalance in the target variable. Let's do some hyperparameter tuning."
      ],
      "metadata": {
        "id": "ONZJB1H-Hd-s"
      }
    },
    {
      "cell_type": "markdown",
      "source": [
        "### Logistic Regression Hyperparameter Tuning\n",
        "Review the baseline model hyperparameters."
      ],
      "metadata": {
        "id": "PjbvhAWmWwdN"
      }
    },
    {
      "cell_type": "code",
      "source": [
        "baseline_model.get_params()"
      ],
      "metadata": {
        "colab": {
          "base_uri": "https://localhost:8080/"
        },
        "id": "NgFJxgXe1oZU",
        "outputId": "3ba1f8ee-a71d-4fad-d1e4-5b59aec7ae56"
      },
      "execution_count": 19,
      "outputs": [
        {
          "output_type": "execute_result",
          "data": {
            "text/plain": [
              "{'C': 1.0,\n",
              " 'class_weight': None,\n",
              " 'dual': False,\n",
              " 'fit_intercept': True,\n",
              " 'intercept_scaling': 1,\n",
              " 'l1_ratio': None,\n",
              " 'max_iter': 100,\n",
              " 'multi_class': 'auto',\n",
              " 'n_jobs': None,\n",
              " 'penalty': 'l2',\n",
              " 'random_state': 42,\n",
              " 'solver': 'lbfgs',\n",
              " 'tol': 0.0001,\n",
              " 'verbose': 0,\n",
              " 'warm_start': False}"
            ]
          },
          "metadata": {},
          "execution_count": 19
        }
      ]
    },
    {
      "cell_type": "code",
      "source": [
        "# similar algorithm as baseline model but with class_weight = balanced\n",
        "# \n",
        "second_logreg = LogisticRegression(class_weight= 'balanced', random_state=42)\n",
        "model_2 = second_logreg.fit(X_train_scaled, y_train)\n",
        "train_preds_2 = model_2.predict(X_train_scaled)\n",
        "test_preds_2 = model_2.predict(X_test_scaled)"
      ],
      "metadata": {
        "id": "SzuDfScHHdGy"
      },
      "execution_count": 20,
      "outputs": []
    },
    {
      "cell_type": "code",
      "source": [
        "# target variable predictions\n",
        "train2_acc = accuracy_score(y_train, train_preds_2)\n",
        "test2_acc = accuracy_score(y_test, test_preds_2)\n",
        "\n",
        "print('Baseline Model Train Accuracy:', train_acc)\n",
        "print('Baseline Model Test Accuracy:', test_acc)\n",
        "print('\\n')\n",
        "print('Second Model Train Accuracy:', train2_acc)\n",
        "print('Second Model Test Accuracy:', test2_acc)\n"
      ],
      "metadata": {
        "colab": {
          "base_uri": "https://localhost:8080/"
        },
        "id": "aaIf98YRL_Rz",
        "outputId": "b247bb1a-434b-4b2d-bf5f-8816b7ea3b6a"
      },
      "execution_count": 21,
      "outputs": [
        {
          "output_type": "stream",
          "name": "stdout",
          "text": [
            "Baseline Model Train Accuracy: 0.834963725719635\n",
            "Baseline Model Test Accuracy: 0.832459752901535\n",
            "\n",
            "\n",
            "Second Model Train Accuracy: 0.7764100163819331\n",
            "Second Model Test Accuracy: 0.7652564582553351\n"
          ]
        }
      ]
    },
    {
      "cell_type": "code",
      "source": [
        "plot_confusion_matrix(second_logreg, X_test_scaled, y_test)"
      ],
      "metadata": {
        "colab": {
          "base_uri": "https://localhost:8080/",
          "height": 351
        },
        "id": "E9lj5Aes6BHH",
        "outputId": "51c12bce-2eea-461e-f768-c7e0a7a8942b"
      },
      "execution_count": 22,
      "outputs": [
        {
          "output_type": "stream",
          "name": "stderr",
          "text": [
            "/usr/local/lib/python3.7/dist-packages/sklearn/utils/deprecation.py:87: FutureWarning: Function plot_confusion_matrix is deprecated; Function `plot_confusion_matrix` is deprecated in 1.0 and will be removed in 1.2. Use one of the class methods: ConfusionMatrixDisplay.from_predictions or ConfusionMatrixDisplay.from_estimator.\n",
            "  warnings.warn(msg, category=FutureWarning)\n"
          ]
        },
        {
          "output_type": "execute_result",
          "data": {
            "text/plain": [
              "<sklearn.metrics._plot.confusion_matrix.ConfusionMatrixDisplay at 0x7f837107c910>"
            ]
          },
          "metadata": {},
          "execution_count": 22
        },
        {
          "output_type": "display_data",
          "data": {
            "text/plain": [
              "<Figure size 432x288 with 2 Axes>"
            ],
            "image/png": "[encoded data removed]"
          },
          "metadata": {
            "needs_background": "light"
          }
        }
      ]
    },
    {
      "cell_type": "markdown",
      "source": [
        "The second logistic model is performing significantly worse than our baseline model. The accuracy score has gone down in addition too many false postives, the one thing am trying to reduce. On the positive side, true positives have increased."
      ],
      "metadata": {
        "id": "Kb7_UgyF2II_"
      }
    },
    {
      "cell_type": "code",
      "source": [
        "model_2.get_params()"
      ],
      "metadata": {
        "colab": {
          "base_uri": "https://localhost:8080/"
        },
        "id": "A6tOGhbv2Czb",
        "outputId": "a267e070-6f4f-430b-9dbb-8f68d904f180"
      },
      "execution_count": 23,
      "outputs": [
        {
          "output_type": "execute_result",
          "data": {
            "text/plain": [
              "{'C': 1.0,\n",
              " 'class_weight': 'balanced',\n",
              " 'dual': False,\n",
              " 'fit_intercept': True,\n",
              " 'intercept_scaling': 1,\n",
              " 'l1_ratio': None,\n",
              " 'max_iter': 100,\n",
              " 'multi_class': 'auto',\n",
              " 'n_jobs': None,\n",
              " 'penalty': 'l2',\n",
              " 'random_state': 42,\n",
              " 'solver': 'lbfgs',\n",
              " 'tol': 0.0001,\n",
              " 'verbose': 0,\n",
              " 'warm_start': False}"
            ]
          },
          "metadata": {},
          "execution_count": 23
        }
      ]
    },
    {
      "cell_type": "markdown",
      "source": [
        "#### SMOTE\n",
        "Hyperparameter tuning does not seem to improve model accuracy by much. In the next model, we will use SMOTE to oversample the minority class. In this dataset, minority class are those not vaccinated (class 0).\n",
        "SMOTE works by selecting examples that are close in the feature space, drawing a line between the examples in the feature space and drawing a new sample at a point along that line.\n",
        "Below is the proportion of class imbalance."
      ],
      "metadata": {
        "id": "Kd3TrC3DM0Fg"
      }
    },
    {
      "cell_type": "code",
      "source": [
        "# a look at our class imbalance problem\n",
        "y_train.value_counts(normalize=True)"
      ],
      "metadata": {
        "colab": {
          "base_uri": "https://localhost:8080/"
        },
        "id": "LIW_O_zI2c5p",
        "outputId": "db7da273-c172-4919-8a37-7669dfb9b921"
      },
      "execution_count": 24,
      "outputs": [
        {
          "output_type": "execute_result",
          "data": {
            "text/plain": [
              "0    0.78755\n",
              "1    0.21245\n",
              "Name: h1n1_vaccine, dtype: float64"
            ]
          },
          "metadata": {},
          "execution_count": 24
        }
      ]
    },
    {
      "cell_type": "code",
      "source": [
        "# import Counter from collections\n",
        "from collections import Counter\n",
        "\n",
        "# Instantiate SMOTE as oversample\n",
        "oversample = SMOTE(random_state=42)\n",
        "X_resampled, y_resampled = oversample.fit_resample(X_train_scaled, y_train)\n",
        "pd.DataFrame(data=X_resampled, columns=X_train.columns)\n",
        "\n",
        "print('Resampled dataset shape %s' % Counter(y_resampled))"
      ],
      "metadata": {
        "colab": {
          "base_uri": "https://localhost:8080/"
        },
        "id": "OcGd36rCWbAK",
        "outputId": "1539bd13-3271-4f82-c5ea-977dbc5d3f47"
      },
      "execution_count": 25,
      "outputs": [
        {
          "output_type": "stream",
          "name": "stdout",
          "text": [
            "Resampled dataset shape Counter({0: 16826, 1: 16826})\n"
          ]
        }
      ]
    },
    {
      "cell_type": "code",
      "source": [
        "third_logreg = LogisticRegression(random_state=42, class_weight={1: 0.29},\n",
        "                                  C=1e5, max_iter=1000)\n",
        "model_log = third_logreg.fit(X_resampled, y_resampled)\n",
        "train3_preds = model_log.predict(X_train_scaled)\n",
        "test3_preds = model_log.predict(X_test_scaled)\n",
        "\n",
        "print('Baseline Model Train Accuracy:', train_acc)\n",
        "print('Baseline Model Test Accuracy:', test_acc)\n",
        "print('\\n')\n",
        "print('Second Model Train Accuracy:', train2_acc)\n",
        "print('Second Model Test Accuracy:', test2_acc)\n",
        "print('\\n')\n",
        "print('Third Model Train Accuracy with SMOTE:', accuracy_score(y_train, train3_preds))\n",
        "print('Third Model Test Accuracy with SMOTE:', accuracy_score(y_test, test3_preds))"
      ],
      "metadata": {
        "colab": {
          "base_uri": "https://localhost:8080/"
        },
        "id": "Fl414kMf74gq",
        "outputId": "ff526c19-08bd-4041-d2b6-ab80c6c22830"
      },
      "execution_count": 26,
      "outputs": [
        {
          "output_type": "stream",
          "name": "stdout",
          "text": [
            "Baseline Model Train Accuracy: 0.834963725719635\n",
            "Baseline Model Test Accuracy: 0.832459752901535\n",
            "\n",
            "\n",
            "Second Model Train Accuracy: 0.7764100163819331\n",
            "Second Model Test Accuracy: 0.7652564582553351\n",
            "\n",
            "\n",
            "Third Model Train Accuracy with SMOTE: 0.8350105312426866\n",
            "Third Model Test Accuracy with SMOTE: 0.8347061025833021\n"
          ]
        }
      ]
    },
    {
      "cell_type": "code",
      "source": [
        "y3_score = model_log.decision_function(X_test_scaled)\n",
        "\n",
        "fpr3, tpr3, thresholds3 = roc_curve(y_test, y3_score)\n",
        "    \n",
        "print('AUC for {}: {}'.format, auc(fpr3, tpr3))\n"
      ],
      "metadata": {
        "colab": {
          "base_uri": "https://localhost:8080/"
        },
        "id": "8290wY1KE_mX",
        "outputId": "461e2952-1355-44d4-86fb-bd43362a1875"
      },
      "execution_count": 27,
      "outputs": [
        {
          "output_type": "stream",
          "name": "stdout",
          "text": [
            "<built-in method format of str object at 0x7f836f264670> 0.8137841378277656\n"
          ]
        }
      ]
    },
    {
      "cell_type": "code",
      "source": [
        "plot_confusion_matrix(model_log, X_test_scaled, y_test)"
      ],
      "metadata": {
        "colab": {
          "base_uri": "https://localhost:8080/",
          "height": 351
        },
        "id": "Ftm6OXzCDW-8",
        "outputId": "2db1dab0-ee5e-4ae8-ac29-6d204f54fe54"
      },
      "execution_count": 28,
      "outputs": [
        {
          "output_type": "stream",
          "name": "stderr",
          "text": [
            "/usr/local/lib/python3.7/dist-packages/sklearn/utils/deprecation.py:87: FutureWarning: Function plot_confusion_matrix is deprecated; Function `plot_confusion_matrix` is deprecated in 1.0 and will be removed in 1.2. Use one of the class methods: ConfusionMatrixDisplay.from_predictions or ConfusionMatrixDisplay.from_estimator.\n",
            "  warnings.warn(msg, category=FutureWarning)\n"
          ]
        },
        {
          "output_type": "execute_result",
          "data": {
            "text/plain": [
              "<sklearn.metrics._plot.confusion_matrix.ConfusionMatrixDisplay at 0x7f83710bb190>"
            ]
          },
          "metadata": {},
          "execution_count": 28
        },
        {
          "output_type": "display_data",
          "data": {
            "text/plain": [
              "<Figure size 432x288 with 2 Axes>"
            ],
            "image/png": "[encoded data removed]"
          },
          "metadata": {
            "needs_background": "light"
          }
        }
      ]
    },
    {
      "cell_type": "markdown",
      "source": [
        "Very minimal changes from the baseline model. The model developed after SMOTE has an accuracy of about 83.5%. "
      ],
      "metadata": {
        "id": "JPlv2pr_CuiI"
      }
    },
    {
      "cell_type": "markdown",
      "source": [
        "## Decision Tree Classifier\n",
        "Decision trees are used to classify by partitioning the sample space as efficiently as possible into sets with similar data points until you get to (or close to) a homogenous set and can reasonably predict the value for new data points.\n",
        "Decision trees do no require any feature transformation. "
      ],
      "metadata": {
        "id": "bfN0ucLv0dL7"
      }
    },
    {
      "cell_type": "code",
      "source": [
        "tree = DecisionTreeClassifier(random_state=42)\n",
        "model_tree = tree.fit(X_train, y_train)\n",
        "\n",
        "print('Tree baseline accuracy:', accuracy_score(y_test, model_tree.predict(X_test)))\n"
      ],
      "metadata": {
        "colab": {
          "base_uri": "https://localhost:8080/"
        },
        "id": "7ujR_v_VFPsN",
        "outputId": "7671b355-24f6-4e1c-d913-573945140212"
      },
      "execution_count": 29,
      "outputs": [
        {
          "output_type": "stream",
          "name": "stdout",
          "text": [
            "Tree baseline accuracy: 0.7431673530512917\n"
          ]
        }
      ]
    },
    {
      "cell_type": "code",
      "source": [
        "plot_confusion_matrix(tree, X_test, y_test)"
      ],
      "metadata": {
        "colab": {
          "base_uri": "https://localhost:8080/",
          "height": 351
        },
        "id": "gpvo0B0b6at1",
        "outputId": "8d3488bb-8e0c-466c-9e40-164f39816264"
      },
      "execution_count": 30,
      "outputs": [
        {
          "output_type": "stream",
          "name": "stderr",
          "text": [
            "/usr/local/lib/python3.7/dist-packages/sklearn/utils/deprecation.py:87: FutureWarning: Function plot_confusion_matrix is deprecated; Function `plot_confusion_matrix` is deprecated in 1.0 and will be removed in 1.2. Use one of the class methods: ConfusionMatrixDisplay.from_predictions or ConfusionMatrixDisplay.from_estimator.\n",
            "  warnings.warn(msg, category=FutureWarning)\n"
          ]
        },
        {
          "output_type": "execute_result",
          "data": {
            "text/plain": [
              "<sklearn.metrics._plot.confusion_matrix.ConfusionMatrixDisplay at 0x7f836f264a90>"
            ]
          },
          "metadata": {},
          "execution_count": 30
        },
        {
          "output_type": "display_data",
          "data": {
            "text/plain": [
              "<Figure size 432x288 with 2 Axes>"
            ],
            "image/png": "[encoded data removed]"
          },
          "metadata": {
            "needs_background": "light"
          }
        }
      ]
    },
    {
      "cell_type": "code",
      "source": [
        "train_accuracy = accuracy_score(y_train, model_tree.predict(X_train))\n",
        "test_accuracy = accuracy_score(y_test, model_tree.predict(X_test))\n",
        "\n",
        "print('Train Accuracy of baseline tree model:', train_accuracy)\n",
        "print('Test Accuracy of baseline tree model:', test_accuracy)"
      ],
      "metadata": {
        "colab": {
          "base_uri": "https://localhost:8080/"
        },
        "id": "oQgUKnQK80fU",
        "outputId": "ad356084-b460-401c-9587-7f95e5e42c9b"
      },
      "execution_count": 31,
      "outputs": [
        {
          "output_type": "stream",
          "name": "stdout",
          "text": [
            "Train Accuracy of baseline tree model: 0.9999531944769483\n",
            "Test Accuracy of baseline tree model: 0.7431673530512917\n"
          ]
        }
      ]
    },
    {
      "cell_type": "markdown",
      "source": [
        "The baseline decision tree model is performing waay better on the training set than test set. Clearly, poor generalization. Hyperparameter tuning to reduce overfitting."
      ],
      "metadata": {
        "id": "wB57oJds9voy"
      }
    },
    {
      "cell_type": "code",
      "source": [
        " # identify the max_depth for baseline decision tree classifier\n",
        "model_tree.tree_.max_depth\n",
        "\n",
        "# reduce max_depth to a number less than 34"
      ],
      "metadata": {
        "colab": {
          "base_uri": "https://localhost:8080/"
        },
        "id": "qRx56XDnF2dW",
        "outputId": "388bbd9b-7895-4db8-9020-da25192ba1c8"
      },
      "execution_count": 32,
      "outputs": [
        {
          "output_type": "execute_result",
          "data": {
            "text/plain": [
              "30"
            ]
          },
          "metadata": {},
          "execution_count": 32
        }
      ]
    },
    {
      "cell_type": "code",
      "source": [
        "for depth in range(1, 12):\n",
        "  model = DecisionTreeClassifier(max_depth=depth, random_state=42)\n",
        "  model.fit(X_train, y_train)\n",
        "  print('training accuracy for max_depth {}:'.format(depth), model.score(X_train, y_train))\n",
        "  print('evaluation accuracy for max_depth {}:'.format(depth), model.score(X_test, y_test))\n",
        "  print('----------------------------------------------')"
      ],
      "metadata": {
        "colab": {
          "base_uri": "https://localhost:8080/"
        },
        "id": "hnXAQVaXLKMC",
        "outputId": "de70a097-67e2-4f39-def3-f4d005a3b831"
      },
      "execution_count": 33,
      "outputs": [
        {
          "output_type": "stream",
          "name": "stdout",
          "text": [
            "training accuracy for max_depth 1: 0.7987362508776036\n",
            "evaluation accuracy for max_depth 1: 0.8083114938225384\n",
            "----------------------------------------------\n",
            "training accuracy for max_depth 2: 0.8205008190966534\n",
            "evaluation accuracy for max_depth 2: 0.819543242231374\n",
            "----------------------------------------------\n",
            "training accuracy for max_depth 3: 0.8273812309852563\n",
            "evaluation accuracy for max_depth 3: 0.8253463122426058\n",
            "----------------------------------------------\n",
            "training accuracy for max_depth 4: 0.8322490053826351\n",
            "evaluation accuracy for max_depth 4: 0.8262822912766754\n",
            "----------------------------------------------\n",
            "training accuracy for max_depth 5: 0.8330915047975661\n",
            "evaluation accuracy for max_depth 5: 0.8253463122426058\n",
            "----------------------------------------------\n",
            "training accuracy for max_depth 6: 0.8378188626257899\n",
            "evaluation accuracy for max_depth 6: 0.8240359415949082\n",
            "----------------------------------------------\n",
            "training accuracy for max_depth 7: 0.8429206646384273\n",
            "evaluation accuracy for max_depth 7: 0.8240359415949082\n",
            "----------------------------------------------\n",
            "training accuracy for max_depth 8: 0.850175520711444\n",
            "evaluation accuracy for max_depth 8: 0.822163983526769\n",
            "----------------------------------------------\n",
            "training accuracy for max_depth 9: 0.8605663468289259\n",
            "evaluation accuracy for max_depth 9: 0.8163609135155373\n",
            "----------------------------------------------\n",
            "training accuracy for max_depth 10: 0.8726421717762696\n",
            "evaluation accuracy for max_depth 10: 0.8118682141520029\n",
            "----------------------------------------------\n",
            "training accuracy for max_depth 11: 0.8865902176456822\n",
            "evaluation accuracy for max_depth 11: 0.8019468363908648\n",
            "----------------------------------------------\n"
          ]
        }
      ]
    },
    {
      "cell_type": "markdown",
      "source": [
        "The accuracy scores are not the best but the sweet spot where we get rid of overfitting is at a maximum depth of 4. That will go into the next model"
      ],
      "metadata": {
        "id": "bouLhiNoNIcp"
      }
    },
    {
      "cell_type": "code",
      "source": [
        "# criterion entropy\n",
        "# max_depth\n",
        "tree2 = DecisionTreeClassifier(criterion='gini', \n",
        "                              max_depth=4, \n",
        "                              min_samples_leaf=1, \n",
        "                              random_state=42)\n",
        "second_tree = tree2.fit(X_train, y_train)\n"
      ],
      "metadata": {
        "id": "0YFxZQuM-eC5"
      },
      "execution_count": 34,
      "outputs": []
    },
    {
      "cell_type": "code",
      "source": [
        "train_accuracy1 = accuracy_score(y_train, tree2.predict(X_train))\n",
        "test_accuracy1 = accuracy_score(y_test, tree2.predict(X_test))\n",
        "\n",
        "print('Train Accuracy of baseline tree model:', train_accuracy)\n",
        "print('Test Accuracy of baseline tree model:', test_accuracy)\n",
        "print('--------------------------------------------------')\n",
        "print('Train Accuracy of second tree model:', train_accuracy1)\n",
        "print('Test Accuracy of second tree model:', test_accuracy1)"
      ],
      "metadata": {
        "colab": {
          "base_uri": "https://localhost:8080/"
        },
        "id": "3P8o6uQHC8_8",
        "outputId": "6313a87a-3901-47b5-efdd-1773b2669955"
      },
      "execution_count": 35,
      "outputs": [
        {
          "output_type": "stream",
          "name": "stdout",
          "text": [
            "Train Accuracy of baseline tree model: 0.9999531944769483\n",
            "Test Accuracy of baseline tree model: 0.7431673530512917\n",
            "--------------------------------------------------\n",
            "Train Accuracy of second tree model: 0.8322490053826351\n",
            "Test Accuracy of second tree model: 0.8262822912766754\n"
          ]
        }
      ]
    },
    {
      "cell_type": "code",
      "source": [
        "plot_confusion_matrix(tree2, X_test, y_test)"
      ],
      "metadata": {
        "colab": {
          "base_uri": "https://localhost:8080/",
          "height": 351
        },
        "id": "OXCBimVl6wqd",
        "outputId": "822d6c0f-62ba-40bc-96db-ce297cd8632a"
      },
      "execution_count": 36,
      "outputs": [
        {
          "output_type": "stream",
          "name": "stderr",
          "text": [
            "/usr/local/lib/python3.7/dist-packages/sklearn/utils/deprecation.py:87: FutureWarning: Function plot_confusion_matrix is deprecated; Function `plot_confusion_matrix` is deprecated in 1.0 and will be removed in 1.2. Use one of the class methods: ConfusionMatrixDisplay.from_predictions or ConfusionMatrixDisplay.from_estimator.\n",
            "  warnings.warn(msg, category=FutureWarning)\n"
          ]
        },
        {
          "output_type": "execute_result",
          "data": {
            "text/plain": [
              "<sklearn.metrics._plot.confusion_matrix.ConfusionMatrixDisplay at 0x7f836f0cccd0>"
            ]
          },
          "metadata": {},
          "execution_count": 36
        },
        {
          "output_type": "display_data",
          "data": {
            "text/plain": [
              "<Figure size 432x288 with 2 Axes>"
            ],
            "image/png": "[encoded data removed]"
          },
          "metadata": {
            "needs_background": "light"
          }
        }
      ]
    },
    {
      "cell_type": "markdown",
      "source": [
        "### Gridsearchcv"
      ],
      "metadata": {
        "id": "aAcQ9Q80MAn-"
      }
    },
    {
      "cell_type": "code",
      "source": [
        "tree2.get_params()"
      ],
      "metadata": {
        "colab": {
          "base_uri": "https://localhost:8080/"
        },
        "id": "49YYhTG2KMYL",
        "outputId": "efb97cc1-0d18-4a0f-e6a4-9303be27f679"
      },
      "execution_count": 37,
      "outputs": [
        {
          "output_type": "execute_result",
          "data": {
            "text/plain": [
              "{'ccp_alpha': 0.0,\n",
              " 'class_weight': None,\n",
              " 'criterion': 'gini',\n",
              " 'max_depth': 4,\n",
              " 'max_features': None,\n",
              " 'max_leaf_nodes': None,\n",
              " 'min_impurity_decrease': 0.0,\n",
              " 'min_samples_leaf': 1,\n",
              " 'min_samples_split': 2,\n",
              " 'min_weight_fraction_leaf': 0.0,\n",
              " 'random_state': 42,\n",
              " 'splitter': 'best'}"
            ]
          },
          "metadata": {},
          "execution_count": 37
        }
      ]
    },
    {
      "cell_type": "code",
      "source": [
        "from sklearn.model_selection import GridSearchCV\n",
        "tree3 = DecisionTreeClassifier(random_state=42)\n",
        "\n",
        "param_grid = {\n",
        "    'criterion': ['gini', 'entropy'],\n",
        "    'max_features': ['auto', 'log2', 'sqrt'],\n",
        "    'max_depth': list(range(3,8)),\n",
        "    'min_samples_split': [0.5, 2, 3],\n",
        "    'max_leaf_nodes': list(range(2,51))\n",
        "}\n",
        "\n",
        "gs_tree = GridSearchCV(tree3, param_grid, cv=3)\n",
        "third_tree = gs_tree.fit(X_train, y_train)\n",
        "\n"
      ],
      "metadata": {
        "id": "GU-QxgWPzf_-"
      },
      "execution_count": 38,
      "outputs": []
    },
    {
      "cell_type": "code",
      "source": [
        "plot_confusion_matrix(gs_tree, X_test, y_test, normalize='all')"
      ],
      "metadata": {
        "colab": {
          "base_uri": "https://localhost:8080/",
          "height": 351
        },
        "id": "zCoIJxMk7EkS",
        "outputId": "05d95248-043f-4b2b-a96f-72d1d47a9c68"
      },
      "execution_count": 39,
      "outputs": [
        {
          "output_type": "stream",
          "name": "stderr",
          "text": [
            "/usr/local/lib/python3.7/dist-packages/sklearn/utils/deprecation.py:87: FutureWarning: Function plot_confusion_matrix is deprecated; Function `plot_confusion_matrix` is deprecated in 1.0 and will be removed in 1.2. Use one of the class methods: ConfusionMatrixDisplay.from_predictions or ConfusionMatrixDisplay.from_estimator.\n",
            "  warnings.warn(msg, category=FutureWarning)\n"
          ]
        },
        {
          "output_type": "execute_result",
          "data": {
            "text/plain": [
              "<sklearn.metrics._plot.confusion_matrix.ConfusionMatrixDisplay at 0x7f836e907750>"
            ]
          },
          "metadata": {},
          "execution_count": 39
        },
        {
          "output_type": "display_data",
          "data": {
            "text/plain": [
              "<Figure size 432x288 with 2 Axes>"
            ],
            "image/png": "[encoded data removed]"
          },
          "metadata": {
            "needs_background": "light"
          }
        }
      ]
    },
    {
      "cell_type": "code",
      "source": [
        "third_tree"
      ],
      "metadata": {
        "colab": {
          "base_uri": "https://localhost:8080/"
        },
        "id": "U3aesggezyzt",
        "outputId": "3959180e-1c90-4148-eeed-2fe19fad0e68"
      },
      "execution_count": 40,
      "outputs": [
        {
          "output_type": "execute_result",
          "data": {
            "text/plain": [
              "GridSearchCV(cv=3, estimator=DecisionTreeClassifier(random_state=42),\n",
              "             param_grid={'criterion': ['gini', 'entropy'],\n",
              "                         'max_depth': [3, 4, 5, 6, 7],\n",
              "                         'max_features': ['auto', 'log2', 'sqrt'],\n",
              "                         'max_leaf_nodes': [2, 3, 4, 5, 6, 7, 8, 9, 10, 11, 12,\n",
              "                                            13, 14, 15, 16, 17, 18, 19, 20, 21,\n",
              "                                            22, 23, 24, 25, 26, 27, 28, 29, 30,\n",
              "                                            31, ...],\n",
              "                         'min_samples_split': [0.5, 2, 3]})"
            ]
          },
          "metadata": {},
          "execution_count": 40
        }
      ]
    },
    {
      "cell_type": "code",
      "source": [
        "gs_tree.best_params_\n"
      ],
      "metadata": {
        "colab": {
          "base_uri": "https://localhost:8080/"
        },
        "id": "clkK3jJzQwBR",
        "outputId": "06ba7203-7215-44ae-e709-acb8695d311c"
      },
      "execution_count": 41,
      "outputs": [
        {
          "output_type": "execute_result",
          "data": {
            "text/plain": [
              "{'criterion': 'entropy',\n",
              " 'max_depth': 6,\n",
              " 'max_features': 'auto',\n",
              " 'max_leaf_nodes': 45,\n",
              " 'min_samples_split': 2}"
            ]
          },
          "metadata": {},
          "execution_count": 41
        }
      ]
    },
    {
      "cell_type": "code",
      "source": [
        "# use best parameters given by gridSearch\n",
        "\n",
        "clf3 = DecisionTreeClassifier(criterion='entropy', max_depth=6, \n",
        "                              min_samples_leaf=2, max_leaf_nodes = 45, \n",
        "                              random_state=42)\n",
        "tree4 = clf3.fit(X_train, y_train)\n",
        "\n",
        "\n",
        "train_accuracy2 = accuracy_score(y_train, tree4.predict(X_train))\n",
        "test_accuracy2 = accuracy_score(y_test, tree4.predict(X_test))\n",
        "\n",
        "\n",
        "print('Train Accuracy of baseline tree model:', train_accuracy)\n",
        "print('Test Accuracy of baseline tree model:', test_accuracy)\n",
        "print('--------------------------------------------------')\n",
        "print('Train Accuracy of second tree model:', train_accuracy1)\n",
        "print('Test Accuracy of second tree model:', test_accuracy1)\n",
        "print('----------------------------------------------------')\n",
        "print('Train Accuracy of  third tree model:', train_accuracy2)\n",
        "print('Test Accuracy of third tree model:', test_accuracy2)"
      ],
      "metadata": {
        "colab": {
          "base_uri": "https://localhost:8080/"
        },
        "id": "g54WY2ROOwnb",
        "outputId": "d72ed0d1-b4c2-47c1-814d-535c85c5839d"
      },
      "execution_count": 42,
      "outputs": [
        {
          "output_type": "stream",
          "name": "stdout",
          "text": [
            "Train Accuracy of baseline tree model: 0.9999531944769483\n",
            "Test Accuracy of baseline tree model: 0.7431673530512917\n",
            "--------------------------------------------------\n",
            "Train Accuracy of second tree model: 0.8322490053826351\n",
            "Test Accuracy of second tree model: 0.8262822912766754\n",
            "----------------------------------------------------\n",
            "Train Accuracy of  third tree model: 0.8360870582728762\n",
            "Test Accuracy of third tree model: 0.8240359415949082\n"
          ]
        }
      ]
    },
    {
      "cell_type": "markdown",
      "source": [
        "Baseline decision tree classifier had the best the decision tree accuracy of the three. despite a gridsearchCV"
      ],
      "metadata": {
        "id": "yVkEmiqDA-O_"
      }
    },
    {
      "cell_type": "markdown",
      "source": [
        "## Random Forest Classifer\n",
        "Random forests creates decision trees on randomly selected data samples, gets prediction from each tree and selects the best solution by means of voting.\n",
        "Random forests is highly accurate and robust.\n",
        "\n",
        "It is resilient to noise hence not prone to overfitting.\n",
        "\n",
        "You can get the relative feature importance, which helps in selecting the most contributing features for the classifier.\n",
        "\n",
        "However, it is computationally complex, slow to implement and utilizes a larger memory foot print."
      ],
      "metadata": {
        "id": "Xvh5MJauRUUb"
      }
    },
    {
      "cell_type": "markdown",
      "source": [
        "We'll begin by fitting an initial random forest classifier, so that we have something to compare our ensemble methods to.\n",
        "### First forest iteration"
      ],
      "metadata": {
        "id": "I6I5XBPrMNYL"
      }
    },
    {
      "cell_type": "code",
      "source": [
        "\n",
        "forest = RandomForestClassifier(random_state=42)\n",
        "forest.fit(X_train, y_train)"
      ],
      "metadata": {
        "colab": {
          "base_uri": "https://localhost:8080/"
        },
        "id": "PrELJCW43Bqn",
        "outputId": "6fd5eba3-b8a4-40b8-e1bd-21ee936751ab"
      },
      "execution_count": 43,
      "outputs": [
        {
          "output_type": "execute_result",
          "data": {
            "text/plain": [
              "RandomForestClassifier(random_state=42)"
            ]
          },
          "metadata": {},
          "execution_count": 43
        }
      ]
    },
    {
      "cell_type": "code",
      "source": [
        "print('Regular Random Forest train accuracy:', accuracy_score(y_train, forest.predict(X_train)))\n",
        "print('Regular Random Forest evaluation accuracy:', accuracy_score(y_test, forest.predict(X_test)))"
      ],
      "metadata": {
        "colab": {
          "base_uri": "https://localhost:8080/"
        },
        "id": "BZL4dKKGW5jB",
        "outputId": "06af31c7-aafe-4ec7-b242-82582b6133a6"
      },
      "execution_count": 44,
      "outputs": [
        {
          "output_type": "stream",
          "name": "stdout",
          "text": [
            "Regular Random Forest train accuracy: 0.9999531944769483\n",
            "Regular Random Forest evaluation accuracy: 0.830026207412954\n"
          ]
        }
      ]
    },
    {
      "cell_type": "code",
      "source": [
        "plot_confusion_matrix(forest, X_test, y_test)"
      ],
      "metadata": {
        "colab": {
          "base_uri": "https://localhost:8080/",
          "height": 351
        },
        "id": "Usj5EaUC8DSP",
        "outputId": "19679692-dffe-400c-ce0f-122054ef7f37"
      },
      "execution_count": 45,
      "outputs": [
        {
          "output_type": "stream",
          "name": "stderr",
          "text": [
            "/usr/local/lib/python3.7/dist-packages/sklearn/utils/deprecation.py:87: FutureWarning: Function plot_confusion_matrix is deprecated; Function `plot_confusion_matrix` is deprecated in 1.0 and will be removed in 1.2. Use one of the class methods: ConfusionMatrixDisplay.from_predictions or ConfusionMatrixDisplay.from_estimator.\n",
            "  warnings.warn(msg, category=FutureWarning)\n"
          ]
        },
        {
          "output_type": "execute_result",
          "data": {
            "text/plain": [
              "<sklearn.metrics._plot.confusion_matrix.ConfusionMatrixDisplay at 0x7f8370bc3c10>"
            ]
          },
          "metadata": {},
          "execution_count": 45
        },
        {
          "output_type": "display_data",
          "data": {
            "text/plain": [
              "<Figure size 432x288 with 2 Axes>"
            ],
            "image/png": "[encoded data removed]"
          },
          "metadata": {
            "needs_background": "light"
          }
        }
      ]
    },
    {
      "cell_type": "markdown",
      "source": [
        "This model is seems to be overfitting. The accuracy score on training set is 99.9% while evaluation has 83% accuracy. Generalization was not achieved well here. Tuning hyperparameters to see performance of subsequent models"
      ],
      "metadata": {
        "id": "nSXow53_M5qH"
      }
    },
    {
      "cell_type": "markdown",
      "source": [
        "#### Hyperparameter tuning for Random Forests\n",
        "##### Second forest iteration"
      ],
      "metadata": {
        "id": "0N1m5_qNNYDX"
      }
    },
    {
      "cell_type": "code",
      "source": [
        "# hyperparameter tuning\n",
        "forest_1 = RandomForestClassifier(random_state=42,\n",
        "                                  max_depth = 6,\n",
        "                                  n_estimators=1000,\n",
        "                                  criterion='gini',\n",
        "                                  max_features='sqrt')\n",
        "# fit second random forest\n",
        "forest_1.fit(X_train, y_train)\n",
        "\n",
        "#print accuracy\n",
        "print('Second Random Forest train accuracy:', accuracy_score(y_train, forest_1.predict(X_train)))\n",
        "print('Second Random Forest evaluation accuracy:', accuracy_score(y_test, forest_1.predict(X_test)))"
      ],
      "metadata": {
        "colab": {
          "base_uri": "https://localhost:8080/"
        },
        "id": "FL58FRDUXOUj",
        "outputId": "112f8fb4-7026-4e70-90d7-8c7c35c563a1"
      },
      "execution_count": 46,
      "outputs": [
        {
          "output_type": "stream",
          "name": "stdout",
          "text": [
            "Second Random Forest train accuracy: 0.8350573367657383\n",
            "Second Random Forest evaluation accuracy: 0.8307749906402097\n"
          ]
        }
      ]
    },
    {
      "cell_type": "code",
      "source": [
        "plot_confusion_matrix(forest_1, X_test, y_test)"
      ],
      "metadata": {
        "colab": {
          "base_uri": "https://localhost:8080/",
          "height": 351
        },
        "id": "5y2BUaUTYINh",
        "outputId": "a4b635ce-603e-454d-e0ad-2bbe961d3cce"
      },
      "execution_count": 47,
      "outputs": [
        {
          "output_type": "stream",
          "name": "stderr",
          "text": [
            "/usr/local/lib/python3.7/dist-packages/sklearn/utils/deprecation.py:87: FutureWarning: Function plot_confusion_matrix is deprecated; Function `plot_confusion_matrix` is deprecated in 1.0 and will be removed in 1.2. Use one of the class methods: ConfusionMatrixDisplay.from_predictions or ConfusionMatrixDisplay.from_estimator.\n",
            "  warnings.warn(msg, category=FutureWarning)\n"
          ]
        },
        {
          "output_type": "execute_result",
          "data": {
            "text/plain": [
              "<sklearn.metrics._plot.confusion_matrix.ConfusionMatrixDisplay at 0x7f8373976ad0>"
            ]
          },
          "metadata": {},
          "execution_count": 47
        },
        {
          "output_type": "display_data",
          "data": {
            "text/plain": [
              "<Figure size 432x288 with 2 Axes>"
            ],
            "image/png": "[encoded data removed]"
          },
          "metadata": {
            "needs_background": "light"
          }
        }
      ]
    },
    {
      "cell_type": "markdown",
      "source": [
        "The second forest is doing better than the initial in that, it has reduced overfitting, and an ever so slightly increase in accuracy.\n",
        "Let's find the feature importance of the second random forest, it may inform our subsequent forests."
      ],
      "metadata": {
        "id": "JYvOGENOqMza"
      }
    },
    {
      "cell_type": "code",
      "source": [
        "feature_imp = pd.Series(forest_1.feature_importances_,index=X_train.columns).sort_values(ascending=False)\n",
        "feature_imp"
      ],
      "metadata": {
        "colab": {
          "base_uri": "https://localhost:8080/"
        },
        "id": "nzszdEY9Tznt",
        "outputId": "bee5dd1b-5113-4956-d96d-081af21d622c"
      },
      "execution_count": 48,
      "outputs": [
        {
          "output_type": "execute_result",
          "data": {
            "text/plain": [
              "doctor_recc_h1n1               0.383800\n",
              "opinion_h1n1_risk              0.218055\n",
              "opinion_h1n1_vacc_effective    0.190724\n",
              "health_worker                  0.060527\n",
              "h1n1_knowledge                 0.022556\n",
              "h1n1_concern                   0.016894\n",
              "opinion_h1n1_sick_from_vacc    0.013693\n",
              "age_group                      0.010385\n",
              "chronic_med_condition          0.010262\n",
              "race                           0.010252\n",
              "education                      0.007305\n",
              "hhs_geo_region                 0.006111\n",
              "employment_status              0.005438\n",
              "household_children             0.004803\n",
              "behavioral_face_mask           0.004700\n",
              "child_under_6_months           0.004494\n",
              "behavioral_wash_hands          0.004062\n",
              "rent_or_own                    0.003775\n",
              "household_adults               0.003565\n",
              "marital_status                 0.003480\n",
              "income_poverty                 0.003307\n",
              "behavioral_touch_face          0.002508\n",
              "behavioral_large_gatherings    0.002301\n",
              "behavioral_outside_home        0.001851\n",
              "behavioral_antiviral_meds      0.001815\n",
              "sex                            0.001735\n",
              "behavioral_avoidance           0.001602\n",
              "dtype: float64"
            ]
          },
          "metadata": {},
          "execution_count": 48
        }
      ]
    },
    {
      "cell_type": "code",
      "source": [
        "# Creating a bar plot\n",
        "fig, ax = plt.subplots(figsize=(16,8), dpi=300)\n",
        "\n",
        "sns.barplot(x=feature_imp, y=feature_imp.index, ax=ax)\n",
        "# Add labels to the graph\n",
        "plt.xlabel('Feature Importance Score')\n",
        "plt.ylabel('Features')\n",
        "plt.title(\"Visualizing Important Features\")\n",
        "\n",
        "plt.show()"
      ],
      "metadata": {
        "colab": {
          "base_uri": "https://localhost:8080/",
          "height": 528
        },
        "id": "FKSVXHYB819R",
        "outputId": "1f77032c-f5ca-490f-99d2-0ae5e2b31600"
      },
      "execution_count": 49,
      "outputs": [
        {
          "output_type": "display_data",
          "data": {
            "text/plain": [
              "<Figure size 4800x2400 with 1 Axes>"
            ],
            "image/png": "[encoded data removed]"
          },
          "metadata": {
            "needs_background": "light"
          }
        }
      ]
    },
    {
      "cell_type": "code",
      "source": [
        "from sklearn.feature_selection import SelectFromModel\n",
        "selector = SelectFromModel(forest_1).fit(X_train, y_train)\n",
        "\n",
        "selector.threshold_\n"
      ],
      "metadata": {
        "colab": {
          "base_uri": "https://localhost:8080/"
        },
        "id": "oFXx0QocwuQY",
        "outputId": "334c28d8-cea8-4d9e-99bc-b89b8c13c7e9"
      },
      "execution_count": 50,
      "outputs": [
        {
          "output_type": "execute_result",
          "data": {
            "text/plain": [
              "0.037037037037037035"
            ]
          },
          "metadata": {},
          "execution_count": 50
        }
      ]
    },
    {
      "cell_type": "markdown",
      "source": [
        "doctor's recomendation is the only feature that surpassed important feature threshold. since we can't use just a single feature for training, let's drop features with less than 0.003 mean importance "
      ],
      "metadata": {
        "id": "3vHWy1UMBjVh"
      }
    },
    {
      "cell_type": "code",
      "source": [
        "# select features above 0.003\n",
        "non_imp = feature_imp[feature_imp < 0.003]\n",
        "non_imp"
      ],
      "metadata": {
        "colab": {
          "base_uri": "https://localhost:8080/"
        },
        "id": "sYC2EYbqDVnG",
        "outputId": "1bc35bf5-0070-4218-db93-6456b35f5721"
      },
      "execution_count": 51,
      "outputs": [
        {
          "output_type": "execute_result",
          "data": {
            "text/plain": [
              "behavioral_touch_face          0.002508\n",
              "behavioral_large_gatherings    0.002301\n",
              "behavioral_outside_home        0.001851\n",
              "behavioral_antiviral_meds      0.001815\n",
              "sex                            0.001735\n",
              "behavioral_avoidance           0.001602\n",
              "dtype: float64"
            ]
          },
          "metadata": {},
          "execution_count": 51
        }
      ]
    },
    {
      "cell_type": "code",
      "source": [
        "# create a new train set and test set with important features\n",
        "drop_from_set = ['sex', 'behavioral_outside_home', 'behavioral_avoidance',\n",
        "                 'behavioral_touch_face', 'behavioral_large_gatherings',\n",
        "                 'behavioral_antiviral_meds']\n",
        "# new train and new_test\n",
        "X_train_new = X_train.drop(columns = drop_from_set, axis=1)\n",
        "X_test_new = X_test.drop(columns = drop_from_set, axis=1)"
      ],
      "metadata": {
        "id": "GsxNzNn5VhKs"
      },
      "execution_count": 52,
      "outputs": []
    },
    {
      "cell_type": "markdown",
      "source": [
        "#### Third Random forests\n",
        "Here we fit the new training set"
      ],
      "metadata": {
        "id": "Z3Z6qBGAsf5F"
      }
    },
    {
      "cell_type": "code",
      "source": [
        "forest_2 = RandomForestClassifier(random_state=42,\n",
        "                                  max_depth = 7,\n",
        "                                  n_estimators=1000,\n",
        "                                  criterion='gini',\n",
        "                                  max_features='sqrt')\n",
        "forest_2.fit(X_train_new, y_train)\n",
        "\n",
        "print('Regular Random Forest train accuracy:', accuracy_score(y_train, forest.predict(X_train)))\n",
        "print('Regular Random Forest evaluation accuracy:', accuracy_score(y_test, forest.predict(X_test)))\n",
        "print('---------------------------------------------------------------')\n",
        "print('Second Random Forest train accuracy:', accuracy_score(y_train, forest_1.predict(X_train)))\n",
        "print('Second Random Forest evaluation accuracy:', accuracy_score(y_test, forest_1.predict(X_test)))\n",
        "print('---------------------------------------------------------------------')\n",
        "print('Third Random Forest train accuracy:', accuracy_score(y_train, forest_2.predict(X_train_new)))\n",
        "print('Third Random Forest evaluation accuracy:', accuracy_score(y_test, forest_2.predict(X_test_new)))"
      ],
      "metadata": {
        "colab": {
          "base_uri": "https://localhost:8080/"
        },
        "id": "i-3Ha7nmWJV1",
        "outputId": "4a6b6d4d-ff0b-4878-f18a-ee40bbc88c37"
      },
      "execution_count": 102,
      "outputs": [
        {
          "output_type": "stream",
          "name": "stdout",
          "text": [
            "Regular Random Forest train accuracy: 0.9999531944769483\n",
            "Regular Random Forest evaluation accuracy: 0.830026207412954\n",
            "---------------------------------------------------------------\n",
            "Second Random Forest train accuracy: 0.8350573367657383\n",
            "Second Random Forest evaluation accuracy: 0.8307749906402097\n",
            "---------------------------------------------------------------------\n",
            "Third Random Forest train accuracy: 0.841142054762462\n",
            "Third Random Forest evaluation accuracy: 0.8328341445151629\n"
          ]
        }
      ]
    },
    {
      "cell_type": "markdown",
      "source": [
        "Third random forest performed better than the first two random forests but slightly."
      ],
      "metadata": {
        "id": "VPu_AIoACYCJ"
      }
    },
    {
      "cell_type": "code",
      "source": [
        "plot_confusion_matrix(forest_2, X_test_new, y_test, normalize='all')"
      ],
      "metadata": {
        "colab": {
          "base_uri": "https://localhost:8080/",
          "height": 351
        },
        "id": "QAF-hjWZYcRV",
        "outputId": "025f540a-c766-4aa0-8a58-2a4c6814939d"
      },
      "execution_count": 54,
      "outputs": [
        {
          "output_type": "stream",
          "name": "stderr",
          "text": [
            "/usr/local/lib/python3.7/dist-packages/sklearn/utils/deprecation.py:87: FutureWarning: Function plot_confusion_matrix is deprecated; Function `plot_confusion_matrix` is deprecated in 1.0 and will be removed in 1.2. Use one of the class methods: ConfusionMatrixDisplay.from_predictions or ConfusionMatrixDisplay.from_estimator.\n",
            "  warnings.warn(msg, category=FutureWarning)\n"
          ]
        },
        {
          "output_type": "execute_result",
          "data": {
            "text/plain": [
              "<sklearn.metrics._plot.confusion_matrix.ConfusionMatrixDisplay at 0x7f836ebf8fd0>"
            ]
          },
          "metadata": {},
          "execution_count": 54
        },
        {
          "output_type": "display_data",
          "data": {
            "text/plain": [
              "<Figure size 432x288 with 2 Axes>"
            ],
            "image/png": "[encoded data removed]"
          },
          "metadata": {
            "needs_background": "light"
          }
        }
      ]
    },
    {
      "cell_type": "markdown",
      "source": [
        "The model has 76% true negatives, 14% false negatives, 7.5% true positives and 3% false positives."
      ],
      "metadata": {
        "id": "43jhUbOdCkyC"
      }
    },
    {
      "cell_type": "markdown",
      "source": [
        "Welp, that slightly improved performance of random forests our model, albeit slightly. Using GridsearchCV to find the best parameters:"
      ],
      "metadata": {
        "id": "dT3EhkLnX8ag"
      }
    },
    {
      "cell_type": "markdown",
      "source": [
        "## Gradient boosting classifier\n"
      ],
      "metadata": {
        "id": "QP_2dPF-xJgo"
      }
    },
    {
      "cell_type": "code",
      "source": [
        "from sklearn.ensemble import GradientBoostingClassifier\n",
        "clf = GradientBoostingClassifier(random_state=42)\n",
        "gb = clf.fit(X_train, y_train)"
      ],
      "metadata": {
        "id": "Th5kF-XwNVk9"
      },
      "execution_count": 56,
      "outputs": []
    },
    {
      "cell_type": "code",
      "source": [
        "accuracy_score(y_test, gb.predict(X_test))"
      ],
      "metadata": {
        "colab": {
          "base_uri": "https://localhost:8080/"
        },
        "id": "WA9i-i0wXuq2",
        "outputId": "bb0cf60f-7a27-476d-c851-b0d07ed49457"
      },
      "execution_count": 57,
      "outputs": [
        {
          "output_type": "execute_result",
          "data": {
            "text/plain": [
              "0.8333957319356047"
            ]
          },
          "metadata": {},
          "execution_count": 57
        }
      ]
    },
    {
      "cell_type": "code",
      "source": [
        "plot_confusion_matrix(clf, X_test, y_test, display_labels=['Unvaxxed', 'Vaxxed'], normalize='all')"
      ],
      "metadata": {
        "colab": {
          "base_uri": "https://localhost:8080/",
          "height": 351
        },
        "id": "vsGgXELWY9ie",
        "outputId": "a0f515b9-9dc0-471a-b24b-6049feee28c6"
      },
      "execution_count": 58,
      "outputs": [
        {
          "output_type": "stream",
          "name": "stderr",
          "text": [
            "/usr/local/lib/python3.7/dist-packages/sklearn/utils/deprecation.py:87: FutureWarning: Function plot_confusion_matrix is deprecated; Function `plot_confusion_matrix` is deprecated in 1.0 and will be removed in 1.2. Use one of the class methods: ConfusionMatrixDisplay.from_predictions or ConfusionMatrixDisplay.from_estimator.\n",
            "  warnings.warn(msg, category=FutureWarning)\n"
          ]
        },
        {
          "output_type": "execute_result",
          "data": {
            "text/plain": [
              "<sklearn.metrics._plot.confusion_matrix.ConfusionMatrixDisplay at 0x7f836e698c10>"
            ]
          },
          "metadata": {},
          "execution_count": 58
        },
        {
          "output_type": "display_data",
          "data": {
            "text/plain": [
              "<Figure size 432x288 with 2 Axes>"
            ],
            "image/png": "[encoded data removed]"
          },
          "metadata": {
            "needs_background": "light"
          }
        }
      ]
    },
    {
      "cell_type": "markdown",
      "source": [
        "74% True positives, 12% False negatives, 9.2% True positive, 4.6% False positives"
      ],
      "metadata": {
        "id": "GvwbFIU6-Nlw"
      }
    },
    {
      "cell_type": "markdown",
      "source": [
        "### XGBoost: First Iteration"
      ],
      "metadata": {
        "id": "HiT87rcJ6X2T"
      }
    },
    {
      "cell_type": "code",
      "source": [
        "from datetime import datetime as dt\n",
        "\n",
        "start = dt.now()\n",
        "\n",
        "from xgboost import XGBClassifier\n",
        "# Instantiate XGBClassifier\n",
        "xgb = XGBClassifier()\n",
        "\n",
        "# Fit XGBClassifier\n",
        "xgb.fit(X_train, y_train)\n",
        "\n",
        "running_secs = (dt.now() - start).seconds\n",
        "\n",
        "# Predict on training and test sets\n",
        "training_preds = xgb.predict(X_train)\n",
        "test_preds = xgb.predict(X_test)\n",
        "\n",
        "# Accuracy of training and test sets\n",
        "training_accuracy = accuracy_score(y_train, training_preds)\n",
        "test_accuracy = accuracy_score(y_test, test_preds)\n",
        "\n",
        "print('Training Accuracy: {:.4}%'.format(training_accuracy * 100))\n",
        "print('Validation accuracy: {:.4}%'.format(test_accuracy * 100))\n",
        "print('Time in seconds This model runs for: ', running_secs )"
      ],
      "metadata": {
        "colab": {
          "base_uri": "https://localhost:8080/"
        },
        "id": "HdJpmCYqxM5A",
        "outputId": "033e671a-ee4e-4c7b-b19d-c43d9e2e6d8d"
      },
      "execution_count": 100,
      "outputs": [
        {
          "output_type": "stream",
          "name": "stdout",
          "text": [
            "Training Accuracy: 84.22%\n",
            "Validation accuracy: 83.66%\n",
            "Time in seconds This model runs for:  2\n"
          ]
        }
      ]
    },
    {
      "cell_type": "markdown",
      "source": [
        "### XGBoost Second Iter"
      ],
      "metadata": {
        "id": "BdFNfJTxiiKa"
      }
    },
    {
      "cell_type": "code",
      "source": [
        "xgb.get_params()"
      ],
      "metadata": {
        "colab": {
          "base_uri": "https://localhost:8080/"
        },
        "id": "KB-NXSxK5Qhv",
        "outputId": "b5270119-272f-45b6-8fcc-c03e93c8ffe7"
      },
      "execution_count": 61,
      "outputs": [
        {
          "output_type": "execute_result",
          "data": {
            "text/plain": [
              "{'base_score': 0.5,\n",
              " 'booster': 'gbtree',\n",
              " 'colsample_bylevel': 1,\n",
              " 'colsample_bynode': 1,\n",
              " 'colsample_bytree': 1,\n",
              " 'gamma': 0,\n",
              " 'learning_rate': 0.1,\n",
              " 'max_delta_step': 0,\n",
              " 'max_depth': 3,\n",
              " 'min_child_weight': 1,\n",
              " 'missing': None,\n",
              " 'n_estimators': 100,\n",
              " 'n_jobs': 1,\n",
              " 'nthread': None,\n",
              " 'objective': 'binary:logistic',\n",
              " 'random_state': 0,\n",
              " 'reg_alpha': 0,\n",
              " 'reg_lambda': 1,\n",
              " 'scale_pos_weight': 1,\n",
              " 'seed': None,\n",
              " 'silent': None,\n",
              " 'subsample': 1,\n",
              " 'verbosity': 1}"
            ]
          },
          "metadata": {},
          "execution_count": 61
        }
      ]
    },
    {
      "cell_type": "code",
      "source": [
        "xgb2 = XGBClassifier()\n",
        "xgb2.fit(X_train_new, y_train)\n",
        "train_preds2 = xgb2.predict(X_train_new)\n",
        "test_preds2 = xgb2.predict(X_test_new)\n",
        "\n",
        "training_accuracy2 = accuracy_score(y_train, train_preds2)\n",
        "test_accuracy2 = accuracy_score(y_test, test_preds2)\n",
        "print('XGB with SMOTE: {:.4%}'.format(test_accuracy2))"
      ],
      "metadata": {
        "colab": {
          "base_uri": "https://localhost:8080/"
        },
        "id": "CsYRgcKggFB1",
        "outputId": "0fff2a78-bd56-413d-ce05-48dfe66ec146"
      },
      "execution_count": 91,
      "outputs": [
        {
          "output_type": "stream",
          "name": "stdout",
          "text": [
            "XGB with SMOTE: 83.4893%\n"
          ]
        }
      ]
    },
    {
      "cell_type": "markdown",
      "source": [
        "#### Third XGBoost Iteration"
      ],
      "metadata": {
        "id": "rPlxXxP1ipaW"
      }
    },
    {
      "cell_type": "code",
      "source": [
        "xgb3 = XGBClassifier(\n",
        " learning_rate =0.01,\n",
        " n_estimators=2000,\n",
        " max_depth=4,\n",
        " min_child_weight=8,\n",
        " gamma=0,\n",
        " subsample=0.6,\n",
        " colsample_bytree=0.6,\n",
        " reg_alpha=0.005,\n",
        " objective= 'binary:logistic',\n",
        " nthread=4,\n",
        " scale_pos_weight=1,\n",
        " seed=27)\n",
        "xgb3.fit(X_train, y_train)"
      ],
      "metadata": {
        "colab": {
          "base_uri": "https://localhost:8080/"
        },
        "id": "eTgB7fz34xi0",
        "outputId": "44f7ac93-ce52-44c0-f0db-cb4f9aac2333"
      },
      "execution_count": 62,
      "outputs": [
        {
          "output_type": "execute_result",
          "data": {
            "text/plain": [
              "XGBClassifier(colsample_bytree=0.6, learning_rate=0.01, max_depth=4,\n",
              "              min_child_weight=8, n_estimators=2000, nthread=4, reg_alpha=0.005,\n",
              "              seed=27, subsample=0.6)"
            ]
          },
          "metadata": {},
          "execution_count": 62
        }
      ]
    },
    {
      "cell_type": "code",
      "source": [
        "preds = xgb3.fit(X_train, y_train).predict(X_test)\n",
        "accuracy_score(y_test, preds)"
      ],
      "metadata": {
        "colab": {
          "base_uri": "https://localhost:8080/"
        },
        "id": "6G1k_mf1vYMc",
        "outputId": "7c54c1d7-458b-49b4-ab08-7f0a9b296af8"
      },
      "execution_count": 63,
      "outputs": [
        {
          "output_type": "execute_result",
          "data": {
            "text/plain": [
              "0.8362036690378135"
            ]
          },
          "metadata": {},
          "execution_count": 63
        }
      ]
    },
    {
      "cell_type": "code",
      "source": [
        "precision_score(y_test, preds)"
      ],
      "metadata": {
        "colab": {
          "base_uri": "https://localhost:8080/"
        },
        "id": "VAQ0w-bJWSHm",
        "outputId": "8f95c142-ff94-4b2f-9832-1d110cac20d5"
      },
      "execution_count": 69,
      "outputs": [
        {
          "output_type": "execute_result",
          "data": {
            "text/plain": [
              "0.6706036745406824"
            ]
          },
          "metadata": {},
          "execution_count": 69
        }
      ]
    },
    {
      "cell_type": "code",
      "source": [
        "print('First  XGBoost Training Accuracy: {:.4}%'.format(training_accuracy * 100))\n",
        "print('First XGBoost Validation accuracy: {:.4}%'.format(test_accuracy * 100))\n",
        "print('----------------------------------------------')\n",
        "print('Second XGBoost with SMOTE Accuracy: {:.4%}'.format(test_accuracy2))\n",
        "print('-------------------------------------')\n",
        "print('SThird XGBoost accuracy: {:.4}%'.format(accuracy_score(y_test, preds)*100))"
      ],
      "metadata": {
        "colab": {
          "base_uri": "https://localhost:8080/"
        },
        "id": "d0ZMu0J1ewEm",
        "outputId": "d52957a3-a19c-4c1b-b419-a9fa63042e59"
      },
      "execution_count": 90,
      "outputs": [
        {
          "output_type": "stream",
          "name": "stdout",
          "text": [
            "First  XGBoost Training Accuracy: 84.22%\n",
            "First XGBoost Validation accuracy: 83.66%\n",
            "----------------------------------------------\n",
            "Second XGBoost with SMOTE Accuracy: 83.4893%\n",
            "-------------------------------------\n",
            "SThird XGBoost accuracy: 83.62%\n"
          ]
        }
      ]
    },
    {
      "cell_type": "markdown",
      "source": [
        "Slight reduction in accuracy of the second and third XCGBoost Model."
      ],
      "metadata": {
        "id": "qyxBdHYifYrk"
      }
    },
    {
      "cell_type": "code",
      "source": [
        "# confusion matrix for the final model\n",
        "plot_confusion_matrix(xgb, X_test, y_test, display_labels=['Unvaxxed', 'Vaxxed'], normalize='all')\n"
      ],
      "metadata": {
        "colab": {
          "base_uri": "https://localhost:8080/",
          "height": 351
        },
        "id": "pg7XkUzSRhcc",
        "outputId": "0a7ee9e9-05b3-483e-fd68-e3a941d24d31"
      },
      "execution_count": 72,
      "outputs": [
        {
          "output_type": "stream",
          "name": "stderr",
          "text": [
            "/usr/local/lib/python3.7/dist-packages/sklearn/utils/deprecation.py:87: FutureWarning: Function plot_confusion_matrix is deprecated; Function `plot_confusion_matrix` is deprecated in 1.0 and will be removed in 1.2. Use one of the class methods: ConfusionMatrixDisplay.from_predictions or ConfusionMatrixDisplay.from_estimator.\n",
            "  warnings.warn(msg, category=FutureWarning)\n"
          ]
        },
        {
          "output_type": "execute_result",
          "data": {
            "text/plain": [
              "<sklearn.metrics._plot.confusion_matrix.ConfusionMatrixDisplay at 0x7f83622c8510>"
            ]
          },
          "metadata": {},
          "execution_count": 72
        },
        {
          "output_type": "display_data",
          "data": {
            "text/plain": [
              "<Figure size 432x288 with 2 Axes>"
            ],
            "image/png": "[encoded data removed]"
          },
          "metadata": {
            "needs_background": "light"
          }
        }
      ]
    },
    {
      "cell_type": "code",
      "source": [
        "# feature importance of XGBoost Classifier\n",
        "\n",
        "feature_impx = pd.Series(xgb.feature_importances_,index=X_train.columns).sort_values(ascending=False)\n",
        "feature_impx"
      ],
      "metadata": {
        "colab": {
          "base_uri": "https://localhost:8080/"
        },
        "id": "TqGJUAZLD959",
        "outputId": "7b2a8977-cff7-48e0-9fed-dbc29f87c12e"
      },
      "execution_count": 64,
      "outputs": [
        {
          "output_type": "execute_result",
          "data": {
            "text/plain": [
              "doctor_recc_h1n1               0.411348\n",
              "opinion_h1n1_risk              0.118471\n",
              "opinion_h1n1_vacc_effective    0.085129\n",
              "health_worker                  0.078689\n",
              "opinion_h1n1_sick_from_vacc    0.025444\n",
              "h1n1_knowledge                 0.024317\n",
              "age_group                      0.023416\n",
              "race                           0.019418\n",
              "h1n1_concern                   0.017459\n",
              "education                      0.017315\n",
              "behavioral_large_gatherings    0.015845\n",
              "child_under_6_months           0.015085\n",
              "behavioral_antiviral_meds      0.013035\n",
              "behavioral_face_mask           0.012432\n",
              "chronic_med_condition          0.012188\n",
              "marital_status                 0.011916\n",
              "behavioral_outside_home        0.011746\n",
              "sex                            0.011549\n",
              "household_children             0.010973\n",
              "rent_or_own                    0.010625\n",
              "hhs_geo_region                 0.010582\n",
              "household_adults               0.009281\n",
              "employment_status              0.008681\n",
              "behavioral_wash_hands          0.007879\n",
              "income_poverty                 0.007346\n",
              "behavioral_avoidance           0.006901\n",
              "behavioral_touch_face          0.002931\n",
              "dtype: float32"
            ]
          },
          "metadata": {},
          "execution_count": 64
        }
      ]
    },
    {
      "cell_type": "code",
      "source": [
        "# Creating a bar plot\n",
        "fig, ax = plt.subplots(figsize=(10,6))\n",
        "x=feature_impx[feature_impx >=0.02]\n",
        "sns.barplot(x=x, y=x.index, ax=ax)\n",
        "# Add labels to the graph\n",
        "plt.xlabel('Feature Importance Score')\n",
        "plt.ylabel('Features')\n",
        "plt.title(\"Top Important Features\")\n",
        "\n",
        "plt.show()"
      ],
      "metadata": {
        "colab": {
          "base_uri": "https://localhost:8080/",
          "height": 404
        },
        "id": "JEVNs6eDEI2P",
        "outputId": "685df4b8-5312-4140-f7b4-2cf6339cd172"
      },
      "execution_count": 111,
      "outputs": [
        {
          "output_type": "display_data",
          "data": {
            "text/plain": [
              "<Figure size 720x432 with 1 Axes>"
            ],
            "image/png": "[encoded data removed]"
          },
          "metadata": {
            "needs_background": "light"
          }
        }
      ]
    },
    {
      "cell_type": "markdown",
      "source": [
        "# Final Model\n",
        "Random forest with the following features dropped after calculating feature importance:\n",
        "```behavioral_touch_face```          0.002508\n",
        "```behavioral_large_gatherings```    0.002301\n",
        "```behavioral_outside_home```       0.001851\n",
        "```behavioral_antiviral_meds```     0.001815\n",
        "```sex````                            0.001735\n",
        "````behavioral_avoidance````         0.001602\n"
      ],
      "metadata": {
        "id": "QtzJ_fdhreJP"
      }
    },
    {
      "cell_type": "code",
      "source": [
        "final_model = RandomForestClassifier(random_state=42,\n",
        "                                  max_depth = 7,\n",
        "                                  n_estimators=1000,\n",
        "                                  criterion='gini',\n",
        "                                  max_features='sqrt')\n",
        "final_model.fit(X_train_new, y_train)\n",
        "\n",
        "\n",
        "print('Final Model Random Forest train accuracy:', accuracy_score(y_train, forest_2.predict(X_train_new)))\n",
        "print('Final Model Random Forest evaluation accuracy:', accuracy_score(y_test, forest_2.predict(X_test_new)))"
      ],
      "metadata": {
        "colab": {
          "base_uri": "https://localhost:8080/"
        },
        "id": "-C7YIPRIri69",
        "outputId": "23506d0a-255a-4ad7-a8d5-f04f39ce1fdf"
      },
      "execution_count": 113,
      "outputs": [
        {
          "output_type": "stream",
          "name": "stdout",
          "text": [
            "Final Model Random Forest train accuracy: 0.841142054762462\n",
            "Final Model Random Forest evaluation accuracy: 0.8328341445151629\n"
          ]
        }
      ]
    },
    {
      "cell_type": "code",
      "source": [
        "from sklearn.pipeline import Pipeline\n",
        "\n",
        "start = dt.now()       #time model starts running\n",
        "# building a pipeline\n",
        "pipe = Pipeline([('tree', RandomForestClassifier(random_state=42,\n",
        "                                                 max_depth=7,\n",
        "                                                 n_estimators = 1000,\n",
        "                                                 criterion = 'gini',\n",
        "                                                 max_features='sqrt')\n",
        ")])\n",
        "\n",
        "#fitting training set\n",
        "pipe.fit(X_train_new, y_train)\n",
        "\n",
        "running_secs = (dt.now() - start).seconds #end time\n",
        "print(running_secs)"
      ],
      "metadata": {
        "colab": {
          "base_uri": "https://localhost:8080/"
        },
        "id": "iSco1Dw7tDFB",
        "outputId": "870b6575-96eb-428a-af53-dc3e8ffab6d4"
      },
      "execution_count": 114,
      "outputs": [
        {
          "output_type": "stream",
          "name": "stdout",
          "text": [
            "13\n"
          ]
        }
      ]
    },
    {
      "cell_type": "code",
      "source": [
        "# model accuracy\n",
        "\n",
        "pipe.score(X_test_new, y_test)"
      ],
      "metadata": {
        "colab": {
          "base_uri": "https://localhost:8080/"
        },
        "id": "Tk9Ia1bStsYh",
        "outputId": "20cf5e42-2807-4e1a-db43-88efc7959152"
      },
      "execution_count": 104,
      "outputs": [
        {
          "output_type": "execute_result",
          "data": {
            "text/plain": [
              "0.8328341445151629"
            ]
          },
          "metadata": {},
          "execution_count": 104
        }
      ]
    },
    {
      "cell_type": "code",
      "source": [
        "# precision score\n",
        "test_preds = pipe.predict(X_test_new)\n",
        "precision_score(y_test, test_preds)"
      ],
      "metadata": {
        "colab": {
          "base_uri": "https://localhost:8080/"
        },
        "id": "bYA5KlU1v5Hv",
        "outputId": "d78448e0-3f54-44bf-bbde-514c0de4e5b4"
      },
      "execution_count": 109,
      "outputs": [
        {
          "output_type": "execute_result",
          "data": {
            "text/plain": [
              "0.7160714285714286"
            ]
          },
          "metadata": {},
          "execution_count": 109
        }
      ]
    },
    {
      "cell_type": "code",
      "source": [
        "plot_confusion_matrix(pipe, X_test_new, y_test, normalize='all')"
      ],
      "metadata": {
        "colab": {
          "base_uri": "https://localhost:8080/",
          "height": 351
        },
        "id": "dVqbX_o6t240",
        "outputId": "2e50d972-6e5c-4473-f87f-35966056393c"
      },
      "execution_count": 105,
      "outputs": [
        {
          "output_type": "stream",
          "name": "stderr",
          "text": [
            "/usr/local/lib/python3.7/dist-packages/sklearn/utils/deprecation.py:87: FutureWarning: Function plot_confusion_matrix is deprecated; Function `plot_confusion_matrix` is deprecated in 1.0 and will be removed in 1.2. Use one of the class methods: ConfusionMatrixDisplay.from_predictions or ConfusionMatrixDisplay.from_estimator.\n",
            "  warnings.warn(msg, category=FutureWarning)\n"
          ]
        },
        {
          "output_type": "execute_result",
          "data": {
            "text/plain": [
              "<sklearn.metrics._plot.confusion_matrix.ConfusionMatrixDisplay at 0x7f8361ce0a90>"
            ]
          },
          "metadata": {},
          "execution_count": 105
        },
        {
          "output_type": "display_data",
          "data": {
            "text/plain": [
              "<Figure size 432x288 with 2 Axes>"
            ],
            "image/png": "[encoded data removed]"
          },
          "metadata": {
            "needs_background": "light"
          }
        }
      ]
    },
    {
      "cell_type": "markdown",
      "source": [
        "### Interpretation of Final Model\n",
        "83.3% accuracy means the model assigns respondents to the right class 83.3% of the time. A precision score of 71.6% tells us that the model predicts vaccinated as class 1, 71.6% percent of the time.\n",
        "\n",
        "The model correctly assigns unvaccinated to 76% of the respondents. whereas it assigns those vaccinated 7.5%.\n",
        "\n",
        "The false negatives are 14% i.e respondents who are vaccinated have a chance of being wrongly classified as class 0. Respondents have a 3% chance of being classified as vaccinated when in reality they are not vaccinated( false positive).\n",
        "This model significantly reduces false positives, which fits into our goal of capturing as many unvaccinated people in order to strategize.\n",
        "\n",
        "P.S the peipeline runs for 13 seconds \n",
        "\n",
        "### Recommendations\n",
        "1.) Model is able to predict of unvaccinated people. The CDC can reach them through text, email etc to nudge the need for vaccination.\n",
        "\n",
        "2.) Encourage doctors to recommend vaccinations to the general public.\n",
        "\n",
        "3.) Dispell misinformation about the vaccine, by providing adequate information about vaccine effectiveness.\n",
        "\n",
        "4.) Educating the public on risk factors of the H1N1, it's spread and preventive measures so that the public has factual reliable information.\n",
        "\n",
        " \n",
        "\n"
      ],
      "metadata": {
        "id": "zUllWUNJVtOi"
      }
    },
    {
      "cell_type": "code",
      "source": [
        ""
      ],
      "metadata": {
        "id": "Eddjy1aRi0Xp"
      },
      "execution_count": null,
      "outputs": []
    }
  ]
}